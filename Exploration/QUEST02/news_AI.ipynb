{
  "cells": [
    {
      "cell_type": "markdown",
      "metadata": {
        "id": "view-in-github",
        "colab_type": "text"
      },
      "source": [
        "<a href=\"https://colab.research.google.com/github/Jinyoung9393/AIFFEL_ONLINE_QUEST/blob/master/Exploration/QUEST02/news_AI.ipynb\" target=\"_parent\"><img src=\"https://colab.research.google.com/assets/colab-badge.svg\" alt=\"Open In Colab\"/></a>"
      ]
    },
    {
      "cell_type": "markdown",
      "id": "9e966e15",
      "metadata": {
        "id": "9e966e15"
      },
      "source": [
        "# 프로젝트: 뉴스기사 요약해보기"
      ]
    },
    {
      "cell_type": "markdown",
      "id": "1608475a",
      "metadata": {
        "id": "1608475a"
      },
      "source": [
        "## 추상적 요약과 추출적 요약을 모두 해보자"
      ]
    },
    {
      "cell_type": "markdown",
      "id": "bddaf09f",
      "metadata": {
        "id": "bddaf09f"
      },
      "source": [
        "### 라이브러리 버전 확인 및 모듈 임포트"
      ]
    },
    {
      "cell_type": "code",
      "execution_count": null,
      "id": "d6bb95ec",
      "metadata": {
        "id": "d6bb95ec",
        "outputId": "20bfe2cd-0377-452d-defb-e74ac6561d59"
      },
      "outputs": [
        {
          "name": "stderr",
          "output_type": "stream",
          "text": [
            "[nltk_data] Downloading package stopwords to /aiffel/nltk_data...\n",
            "[nltk_data]   Package stopwords is already up-to-date!\n"
          ]
        },
        {
          "name": "stdout",
          "output_type": "stream",
          "text": [
            "3.6.5\n",
            "2.6.0\n",
            "1.3.3\n",
            "1.2.0\n"
          ]
        }
      ],
      "source": [
        "from importlib.metadata import version\n",
        "import nltk\n",
        "import tensorflow\n",
        "import summa\n",
        "import pandas\n",
        "import nltk\n",
        "nltk.download('stopwords')\n",
        "\n",
        "import numpy as np\n",
        "import pandas as pd\n",
        "import os\n",
        "import re\n",
        "import matplotlib.pyplot as plt\n",
        "from nltk.corpus import stopwords\n",
        "from bs4 import BeautifulSoup\n",
        "from tensorflow.keras.preprocessing.text import Tokenizer\n",
        "from tensorflow.keras.preprocessing.sequence import pad_sequences\n",
        "import urllib.request\n",
        "import warnings\n",
        "warnings.filterwarnings(\"ignore\", category=UserWarning, module='bs4')\n",
        "print(nltk.__version__)\n",
        "print(tensorflow.__version__)\n",
        "print(pandas.__version__)\n",
        "print(version('summa'))"
      ]
    },
    {
      "cell_type": "markdown",
      "id": "10645d0f",
      "metadata": {
        "id": "10645d0f"
      },
      "source": [
        "# 데이터 준비 및 전처리"
      ]
    },
    {
      "cell_type": "code",
      "execution_count": null,
      "id": "5f5879d3",
      "metadata": {
        "id": "5f5879d3"
      },
      "outputs": [],
      "source": [
        "import urllib.request\n",
        "urllib.request.urlretrieve(\"https://raw.githubusercontent.com/sunnysai12345/News_Summary/master/news_summary_more.csv\", filename=\"news_summary_more.csv\")\n",
        "data = pd.read_csv('news_summary_more.csv', encoding='iso-8859-1')"
      ]
    },
    {
      "cell_type": "code",
      "execution_count": null,
      "id": "5721c9fd",
      "metadata": {
        "id": "5721c9fd",
        "outputId": "bea897a9-4558-471b-f0e9-45d69be86663"
      },
      "outputs": [
        {
          "data": {
            "text/html": [
              "<div>\n",
              "<style scoped>\n",
              "    .dataframe tbody tr th:only-of-type {\n",
              "        vertical-align: middle;\n",
              "    }\n",
              "\n",
              "    .dataframe tbody tr th {\n",
              "        vertical-align: top;\n",
              "    }\n",
              "\n",
              "    .dataframe thead th {\n",
              "        text-align: right;\n",
              "    }\n",
              "</style>\n",
              "<table border=\"1\" class=\"dataframe\">\n",
              "  <thead>\n",
              "    <tr style=\"text-align: right;\">\n",
              "      <th></th>\n",
              "      <th>headlines</th>\n",
              "      <th>text</th>\n",
              "    </tr>\n",
              "  </thead>\n",
              "  <tbody>\n",
              "    <tr>\n",
              "      <th>0</th>\n",
              "      <td>upGrad learner switches to career in ML &amp; Al w...</td>\n",
              "      <td>Saurav Kant, an alumnus of upGrad and IIIT-B's...</td>\n",
              "    </tr>\n",
              "    <tr>\n",
              "      <th>1</th>\n",
              "      <td>Delhi techie wins free food from Swiggy for on...</td>\n",
              "      <td>Kunal Shah's credit card bill payment platform...</td>\n",
              "    </tr>\n",
              "    <tr>\n",
              "      <th>2</th>\n",
              "      <td>New Zealand end Rohit Sharma-led India's 12-ma...</td>\n",
              "      <td>New Zealand defeated India by 8 wickets in the...</td>\n",
              "    </tr>\n",
              "    <tr>\n",
              "      <th>3</th>\n",
              "      <td>Aegon life iTerm insurance plan helps customer...</td>\n",
              "      <td>With Aegon Life iTerm Insurance plan, customer...</td>\n",
              "    </tr>\n",
              "    <tr>\n",
              "      <th>4</th>\n",
              "      <td>Have known Hirani for yrs, what if MeToo claim...</td>\n",
              "      <td>Speaking about the sexual harassment allegatio...</td>\n",
              "    </tr>\n",
              "  </tbody>\n",
              "</table>\n",
              "</div>"
            ],
            "text/plain": [
              "                                           headlines  \\\n",
              "0  upGrad learner switches to career in ML & Al w...   \n",
              "1  Delhi techie wins free food from Swiggy for on...   \n",
              "2  New Zealand end Rohit Sharma-led India's 12-ma...   \n",
              "3  Aegon life iTerm insurance plan helps customer...   \n",
              "4  Have known Hirani for yrs, what if MeToo claim...   \n",
              "\n",
              "                                                text  \n",
              "0  Saurav Kant, an alumnus of upGrad and IIIT-B's...  \n",
              "1  Kunal Shah's credit card bill payment platform...  \n",
              "2  New Zealand defeated India by 8 wickets in the...  \n",
              "3  With Aegon Life iTerm Insurance plan, customer...  \n",
              "4  Speaking about the sexual harassment allegatio...  "
            ]
          },
          "execution_count": 3,
          "metadata": {},
          "output_type": "execute_result"
        }
      ],
      "source": [
        "data.head()"
      ]
    },
    {
      "cell_type": "markdown",
      "id": "165d7a57",
      "metadata": {
        "id": "165d7a57"
      },
      "source": [
        "### 데이터 수 확인"
      ]
    },
    {
      "cell_type": "code",
      "execution_count": null,
      "id": "dc3cf16e",
      "metadata": {
        "id": "dc3cf16e",
        "outputId": "b20a498b-bea5-46d3-98a7-2a7499873dc3"
      },
      "outputs": [
        {
          "name": "stdout",
          "output_type": "stream",
          "text": [
            "Text 열에서 중복을 배제한 유일한 샘플의 수 : 98360\n",
            "headlines 열에서 중복을 배제한 유일한 샘플의 수 : 98280\n"
          ]
        }
      ],
      "source": [
        "print('text 열에서 중복을 배제한 유일한 샘플의 수 :', data['text'].nunique())\n",
        "print('headlines 열에서 중복을 배제한 유일한 샘플의 수 :', data['headlines'].nunique())"
      ]
    },
    {
      "cell_type": "markdown",
      "id": "8e12ad1c",
      "metadata": {
        "id": "8e12ad1c"
      },
      "source": [
        "### 중복 샘플을 제거"
      ]
    },
    {
      "cell_type": "code",
      "execution_count": null,
      "id": "99fe34c0",
      "metadata": {
        "id": "99fe34c0",
        "outputId": "ed524597-fd92-4284-e8b6-7ec9b6c7fbd4"
      },
      "outputs": [
        {
          "name": "stdout",
          "output_type": "stream",
          "text": [
            "전체 샘플수 : 98360\n"
          ]
        }
      ],
      "source": [
        "data.drop_duplicates(subset = ['text'], inplace=True)\n",
        "print('전체 샘플수 :', (len(data)))"
      ]
    },
    {
      "cell_type": "markdown",
      "id": "7a936bfa",
      "metadata": {
        "id": "7a936bfa"
      },
      "source": [
        "### 데이터프레임에 Null 값이 있는지 확인"
      ]
    },
    {
      "cell_type": "code",
      "execution_count": null,
      "id": "03aa90dc",
      "metadata": {
        "id": "03aa90dc",
        "outputId": "0ef75cd8-facb-4d15-da2d-9907b7268eba"
      },
      "outputs": [
        {
          "name": "stdout",
          "output_type": "stream",
          "text": [
            "headlines    0\n",
            "text         0\n",
            "dtype: int64\n"
          ]
        }
      ],
      "source": [
        "print(data.isnull().sum())"
      ]
    },
    {
      "cell_type": "markdown",
      "id": "8ab8273d",
      "metadata": {
        "id": "8ab8273d"
      },
      "source": [
        "### 텍스트 정규화와 불용어 제거"
      ]
    },
    {
      "cell_type": "code",
      "execution_count": null,
      "id": "cf167b4a",
      "metadata": {
        "id": "cf167b4a",
        "outputId": "22628cf9-4232-4ec5-d12f-83df675738fc"
      },
      "outputs": [
        {
          "name": "stdout",
          "output_type": "stream",
          "text": [
            "정규화 사전의 수:  120\n"
          ]
        }
      ],
      "source": [
        "contractions = {\"ain't\": \"is not\", \"aren't\": \"are not\",\"can't\": \"cannot\", \"'cause\": \"because\", \"could've\": \"could have\", \"couldn't\": \"could not\",\n",
        "                           \"didn't\": \"did not\",  \"doesn't\": \"does not\", \"don't\": \"do not\", \"hadn't\": \"had not\", \"hasn't\": \"has not\", \"haven't\": \"have not\",\n",
        "                           \"he'd\": \"he would\",\"he'll\": \"he will\", \"he's\": \"he is\", \"how'd\": \"how did\", \"how'd'y\": \"how do you\", \"how'll\": \"how will\", \"how's\": \"how is\",\n",
        "                           \"I'd\": \"I would\", \"I'd've\": \"I would have\", \"I'll\": \"I will\", \"I'll've\": \"I will have\",\"I'm\": \"I am\", \"I've\": \"I have\", \"i'd\": \"i would\",\n",
        "                           \"i'd've\": \"i would have\", \"i'll\": \"i will\",  \"i'll've\": \"i will have\",\"i'm\": \"i am\", \"i've\": \"i have\", \"isn't\": \"is not\", \"it'd\": \"it would\",\n",
        "                           \"it'd've\": \"it would have\", \"it'll\": \"it will\", \"it'll've\": \"it will have\",\"it's\": \"it is\", \"let's\": \"let us\", \"ma'am\": \"madam\",\n",
        "                           \"mayn't\": \"may not\", \"might've\": \"might have\",\"mightn't\": \"might not\",\"mightn't've\": \"might not have\", \"must've\": \"must have\",\n",
        "                           \"mustn't\": \"must not\", \"mustn't've\": \"must not have\", \"needn't\": \"need not\", \"needn't've\": \"need not have\",\"o'clock\": \"of the clock\",\n",
        "                           \"oughtn't\": \"ought not\", \"oughtn't've\": \"ought not have\", \"shan't\": \"shall not\", \"sha'n't\": \"shall not\", \"shan't've\": \"shall not have\",\n",
        "                           \"she'd\": \"she would\", \"she'd've\": \"she would have\", \"she'll\": \"she will\", \"she'll've\": \"she will have\", \"she's\": \"she is\",\n",
        "                           \"should've\": \"should have\", \"shouldn't\": \"should not\", \"shouldn't've\": \"should not have\", \"so've\": \"so have\",\"so's\": \"so as\",\n",
        "                           \"this's\": \"this is\",\"that'd\": \"that would\", \"that'd've\": \"that would have\", \"that's\": \"that is\", \"there'd\": \"there would\",\n",
        "                           \"there'd've\": \"there would have\", \"there's\": \"there is\", \"here's\": \"here is\",\"they'd\": \"they would\", \"they'd've\": \"they would have\",\n",
        "                           \"they'll\": \"they will\", \"they'll've\": \"they will have\", \"they're\": \"they are\", \"they've\": \"they have\", \"to've\": \"to have\",\n",
        "                           \"wasn't\": \"was not\", \"we'd\": \"we would\", \"we'd've\": \"we would have\", \"we'll\": \"we will\", \"we'll've\": \"we will have\", \"we're\": \"we are\",\n",
        "                           \"we've\": \"we have\", \"weren't\": \"were not\", \"what'll\": \"what will\", \"what'll've\": \"what will have\", \"what're\": \"what are\",\n",
        "                           \"what's\": \"what is\", \"what've\": \"what have\", \"when's\": \"when is\", \"when've\": \"when have\", \"where'd\": \"where did\", \"where's\": \"where is\",\n",
        "                           \"where've\": \"where have\", \"who'll\": \"who will\", \"who'll've\": \"who will have\", \"who's\": \"who is\", \"who've\": \"who have\",\n",
        "                           \"why's\": \"why is\", \"why've\": \"why have\", \"will've\": \"will have\", \"won't\": \"will not\", \"won't've\": \"will not have\",\n",
        "                           \"would've\": \"would have\", \"wouldn't\": \"would not\", \"wouldn't've\": \"would not have\", \"y'all\": \"you all\",\n",
        "                           \"y'all'd\": \"you all would\",\"y'all'd've\": \"you all would have\",\"y'all're\": \"you all are\",\"y'all've\": \"you all have\",\n",
        "                           \"you'd\": \"you would\", \"you'd've\": \"you would have\", \"you'll\": \"you will\", \"you'll've\": \"you will have\",\n",
        "                           \"you're\": \"you are\", \"you've\": \"you have\"}\n",
        "\n",
        "print(\"정규화 사전의 수: \", len(contractions))"
      ]
    },
    {
      "cell_type": "code",
      "execution_count": null,
      "id": "189dc412",
      "metadata": {
        "id": "189dc412",
        "outputId": "8b8d69bb-a0c3-4a13-e6cb-390fb103b03c"
      },
      "outputs": [
        {
          "name": "stdout",
          "output_type": "stream",
          "text": [
            "불용어 개수 : 179\n",
            "['i', 'me', 'my', 'myself', 'we', 'our', 'ours', 'ourselves', 'you', \"you're\", \"you've\", \"you'll\", \"you'd\", 'your', 'yours', 'yourself', 'yourselves', 'he', 'him', 'his', 'himself', 'she', \"she's\", 'her', 'hers', 'herself', 'it', \"it's\", 'its', 'itself', 'they', 'them', 'their', 'theirs', 'themselves', 'what', 'which', 'who', 'whom', 'this', 'that', \"that'll\", 'these', 'those', 'am', 'is', 'are', 'was', 'were', 'be', 'been', 'being', 'have', 'has', 'had', 'having', 'do', 'does', 'did', 'doing', 'a', 'an', 'the', 'and', 'but', 'if', 'or', 'because', 'as', 'until', 'while', 'of', 'at', 'by', 'for', 'with', 'about', 'against', 'between', 'into', 'through', 'during', 'before', 'after', 'above', 'below', 'to', 'from', 'up', 'down', 'in', 'out', 'on', 'off', 'over', 'under', 'again', 'further', 'then', 'once', 'here', 'there', 'when', 'where', 'why', 'how', 'all', 'any', 'both', 'each', 'few', 'more', 'most', 'other', 'some', 'such', 'no', 'nor', 'not', 'only', 'own', 'same', 'so', 'than', 'too', 'very', 's', 't', 'can', 'will', 'just', 'don', \"don't\", 'should', \"should've\", 'now', 'd', 'll', 'm', 'o', 're', 've', 'y', 'ain', 'aren', \"aren't\", 'couldn', \"couldn't\", 'didn', \"didn't\", 'doesn', \"doesn't\", 'hadn', \"hadn't\", 'hasn', \"hasn't\", 'haven', \"haven't\", 'isn', \"isn't\", 'ma', 'mightn', \"mightn't\", 'mustn', \"mustn't\", 'needn', \"needn't\", 'shan', \"shan't\", 'shouldn', \"shouldn't\", 'wasn', \"wasn't\", 'weren', \"weren't\", 'won', \"won't\", 'wouldn', \"wouldn't\"]\n"
          ]
        }
      ],
      "source": [
        "print('불용어 개수 :', len(stopwords.words('english') ))\n",
        "print(stopwords.words('english'))"
      ]
    },
    {
      "cell_type": "markdown",
      "id": "4e248072",
      "metadata": {
        "id": "4e248072"
      },
      "source": [
        "### 데이터 전처리 함수"
      ]
    },
    {
      "cell_type": "code",
      "execution_count": null,
      "id": "410a0a76",
      "metadata": {
        "id": "410a0a76"
      },
      "outputs": [],
      "source": [
        "# 데이터 전처리 함수\n",
        "def preprocess_sentence(sentence, remove_stopwords=True):\n",
        "    sentence = sentence.lower() # 텍스트 소문자화\n",
        "    sentence = BeautifulSoup(sentence, \"lxml\").text # <br />, <a href = ...> 등의 html 태그 제거\n",
        "    sentence = re.sub(r'\\([^)]*\\)', '', sentence) # 괄호로 닫힌 문자열 (...) 제거 Ex) my husband (and myself!) for => my husband for\n",
        "    sentence = re.sub('\"','', sentence) # 쌍따옴표 \" 제거\n",
        "    sentence = ' '.join([contractions[t] if t in contractions else t for t in sentence.split(\" \")]) # 약어 정규화\n",
        "    sentence = re.sub(r\"'s\\b\",\"\", sentence) # 소유격 제거. Ex) roland's -> roland\n",
        "    sentence = re.sub(\"[^a-zA-Z]\", \" \", sentence) # 영어 외 문자(숫자, 특수문자 등) 공백으로 변환\n",
        "    sentence = re.sub('[m]{2,}', 'mm', sentence) # m이 3개 이상이면 2개로 변경. Ex) ummmmmmm yeah -> umm yeah\n",
        "\n",
        "    # 불용어 제거 (Text)\n",
        "    if remove_stopwords:\n",
        "        tokens = ' '.join(word for word in sentence.split() if not word in stopwords.words('english') if len(word) > 1)\n",
        "    # 불용어 미제거 (Summary)\n",
        "    else:\n",
        "        tokens = ' '.join(word for word in sentence.split() if len(word) > 1)\n",
        "    return tokens"
      ]
    },
    {
      "cell_type": "markdown",
      "id": "563eefbb",
      "metadata": {
        "id": "563eefbb"
      },
      "source": [
        "### 전처리 전, 후의 결과를 확인"
      ]
    },
    {
      "cell_type": "code",
      "execution_count": null,
      "id": "cdf90505",
      "metadata": {
        "id": "cdf90505",
        "outputId": "d4f1b667-14f3-4e08-fd2b-810baa71cc45"
      },
      "outputs": [
        {
          "name": "stdout",
          "output_type": "stream",
          "text": [
            "text:  everything bought great infact ordered twice third ordered wasfor mother father\n",
            "summary: great way to start the day\n"
          ]
        }
      ],
      "source": [
        "temp_text = 'Everything I bought was great, infact I ordered twice and the third ordered was<br />for my mother and father.'\n",
        "temp_summary = 'Great way to start (or finish) the day!!!'\n",
        "\n",
        "print(\"text: \", preprocess_sentence(temp_text))\n",
        "print(\"summary:\", preprocess_sentence(temp_summary, False))  # 불용어를 제거하지 않습니다."
      ]
    },
    {
      "cell_type": "markdown",
      "id": "42360577",
      "metadata": {
        "id": "42360577"
      },
      "source": [
        "### 데이터 전처리 코드 작성"
      ]
    },
    {
      "cell_type": "markdown",
      "id": "57787942",
      "metadata": {
        "id": "57787942"
      },
      "source": [
        "text 데이터 전처리"
      ]
    },
    {
      "cell_type": "code",
      "execution_count": null,
      "id": "36597c16",
      "metadata": {
        "id": "36597c16",
        "outputId": "45c6fe81-7828-43f6-9775-dc6b7d5530c2"
      },
      "outputs": [
        {
          "name": "stdout",
          "output_type": "stream",
          "text": [
            "Text 전처리 후 결과:  ['saurav kant alumnus upgrad iiit pg program machine learning artificial intelligence sr systems engineer infosys almost years work experience program upgrad degree career support helped transition data scientist tech mahindra salary hike upgrad online power learning powered lakh careers', 'kunal shah credit card bill payment platform cred gave users chance win free food swiggy one year pranav kaushik delhi techie bagged reward spending cred coins users get one cred coin per rupee bill paid used avail rewards brands like ixigo bookmyshow ubereats cult fit', 'new zealand defeated india wickets fourth odi hamilton thursday win first match five match odi series india lost international match rohit sharma captaincy consecutive victories dating back march match witnessed india getting seventh lowest total odi cricket history', 'aegon life iterm insurance plan customers enjoy tax benefits premiums paid save taxes plan provides life cover age years also customers options insure critical illnesses disability accidental death benefit rider life cover age years', 'speaking sexual harassment allegations rajkumar hirani sonam kapoor said known hirani many years true metoo movement get derailed metoo movement always believe woman case need reserve judgment added hirani accused assistant worked sanju']\n"
          ]
        }
      ],
      "source": [
        "clean_text = []\n",
        "\n",
        "for i in data['text']:\n",
        "    clean_text.append(preprocess_sentence(i))\n",
        "\n",
        "# 전처리 후 출력\n",
        "print(\"Text 전처리 후 결과: \", clean_text[:5])"
      ]
    },
    {
      "cell_type": "markdown",
      "id": "f30ff519",
      "metadata": {
        "id": "f30ff519"
      },
      "source": [
        "headlines 데이터 전처리"
      ]
    },
    {
      "cell_type": "code",
      "execution_count": null,
      "id": "279f6ab5",
      "metadata": {
        "id": "279f6ab5",
        "outputId": "384b08b6-1bba-4576-9989-ca0f1b2f344e"
      },
      "outputs": [
        {
          "name": "stdout",
          "output_type": "stream",
          "text": [
            "headlines 전처리 후 결과:  ['upgrad learner switches to career in ml al with salary hike', 'delhi techie wins free food from swiggy for one year on cred', 'new zealand end rohit sharma led india match winning streak', 'aegon life iterm insurance plan helps customers save tax', 'have known hirani for yrs what if metoo claims are not true sonam']\n"
          ]
        }
      ],
      "source": [
        "clean_headlines = []\n",
        "\n",
        "for headlines in data['headlines']:\n",
        "    clean_headlines.append(preprocess_sentence(headlines, False))\n",
        "\n",
        "print(\"headlines 전처리 후 결과: \", clean_headlines[:5])"
      ]
    },
    {
      "cell_type": "markdown",
      "id": "1be0e3e2",
      "metadata": {
        "id": "1be0e3e2"
      },
      "source": [
        "### 데이터프레임에 재저장"
      ]
    },
    {
      "cell_type": "code",
      "execution_count": null,
      "id": "c5c646bf",
      "metadata": {
        "id": "c5c646bf"
      },
      "outputs": [],
      "source": [
        "data['text'] = clean_text\n",
        "data['headlines'] = clean_headlines\n",
        "\n",
        "# 빈 값을 Null 값으로 변환\n",
        "data.replace('', np.nan, inplace=True)"
      ]
    },
    {
      "cell_type": "markdown",
      "id": "e6ee0da7",
      "metadata": {
        "id": "e6ee0da7"
      },
      "source": [
        "###  Null값 확인"
      ]
    },
    {
      "cell_type": "code",
      "execution_count": null,
      "id": "b6011575",
      "metadata": {
        "id": "b6011575",
        "outputId": "c405e321-5b20-4fea-9bd8-0ce0f884d0a2"
      },
      "outputs": [
        {
          "data": {
            "text/plain": [
              "headlines    0\n",
              "text         0\n",
              "dtype: int64"
            ]
          },
          "execution_count": 16,
          "metadata": {},
          "output_type": "execute_result"
        }
      ],
      "source": [
        "data.isnull().sum()"
      ]
    },
    {
      "cell_type": "markdown",
      "id": "331d8654",
      "metadata": {
        "id": "331d8654"
      },
      "source": [
        "## 데이터 나누기"
      ]
    },
    {
      "cell_type": "markdown",
      "id": "7f4be2c3",
      "metadata": {
        "id": "7f4be2c3"
      },
      "source": [
        "### 최대 길이 지정\n",
        "데이터의 길이를 확인 및 시각화"
      ]
    },
    {
      "cell_type": "code",
      "execution_count": null,
      "id": "71ea6583",
      "metadata": {
        "id": "71ea6583",
        "outputId": "2e0e0ea7-5f19-49d4-d333-5e26ddc316ef"
      },
      "outputs": [
        {
          "name": "stdout",
          "output_type": "stream",
          "text": [
            "텍스트의 최소 길이 : 1\n",
            "텍스트의 최대 길이 : 60\n",
            "텍스트의 평균 길이 : 35.09968483123221\n",
            "요약의 최소 길이 : 1\n",
            "요약의 최대 길이 : 16\n",
            "요약의 평균 길이 : 9.299532330215534\n"
          ]
        },
        {
          "data": {
            "image/png": "[encoded data removed]",
            "text/plain": [
              "<Figure size 432x288 with 2 Axes>"
            ]
          },
          "metadata": {
            "needs_background": "light"
          },
          "output_type": "display_data"
        },
        {
          "data": {
            "image/png": "[encoded data removed]",
            "text/plain": [
              "<Figure size 432x288 with 1 Axes>"
            ]
          },
          "metadata": {
            "needs_background": "light"
          },
          "output_type": "display_data"
        },
        {
          "data": {
            "image/png": "[encoded data removed]",
            "text/plain": [
              "<Figure size 432x288 with 1 Axes>"
            ]
          },
          "metadata": {
            "needs_background": "light"
          },
          "output_type": "display_data"
        }
      ],
      "source": [
        "text_len = [len(s.split()) for s in data['text']]\n",
        "headlines_len = [len(s.split()) for s in data['headlines']]\n",
        "\n",
        "print('텍스트의 최소 길이 : {}'.format(np.min(text_len)))\n",
        "print('텍스트의 최대 길이 : {}'.format(np.max(text_len)))\n",
        "print('텍스트의 평균 길이 : {}'.format(np.mean(text_len)))\n",
        "print('요약의 최소 길이 : {}'.format(np.min(headlines_len)))\n",
        "print('요약의 최대 길이 : {}'.format(np.max(headlines_len)))\n",
        "print('요약의 평균 길이 : {}'.format(np.mean(headlines_len)))\n",
        "\n",
        "plt.subplot(1,2,1)\n",
        "plt.boxplot(text_len)\n",
        "plt.title('text')\n",
        "plt.subplot(1,2,2)\n",
        "plt.boxplot(headlines_len)\n",
        "plt.title('headlines')\n",
        "plt.tight_layout()\n",
        "plt.show()\n",
        "\n",
        "plt.title('text')\n",
        "plt.hist(text_len, bins = 40)\n",
        "plt.xlabel('length of samples')\n",
        "plt.ylabel('number of samples')\n",
        "plt.show()\n",
        "\n",
        "plt.title('headlines')\n",
        "plt.hist(headlines_len, bins = 40)\n",
        "plt.xlabel('length of samples')\n",
        "plt.ylabel('number of samples')\n",
        "plt.show()"
      ]
    },
    {
      "cell_type": "markdown",
      "id": "768e4808",
      "metadata": {
        "id": "768e4808"
      },
      "source": [
        "### text 최대 길이 60, headlines 최대 길이 16\n",
        "위 데이터를 바탕으로 최대 길이 지정"
      ]
    },
    {
      "cell_type": "code",
      "execution_count": null,
      "id": "de4d6734",
      "metadata": {
        "id": "de4d6734"
      },
      "outputs": [],
      "source": [
        "text_max_len = 40\n",
        "headlines_max_len = 10"
      ]
    },
    {
      "cell_type": "markdown",
      "id": "264be445",
      "metadata": {
        "id": "264be445"
      },
      "source": [
        "### 최대길이를 지정하였을 때 데이터의 몇 %가 해당되는 지 확인"
      ]
    },
    {
      "cell_type": "code",
      "execution_count": null,
      "id": "a467b322",
      "metadata": {
        "id": "a467b322",
        "outputId": "7273e947-feed-440e-9bfa-a6093cfaeefe"
      },
      "outputs": [
        {
          "name": "stdout",
          "output_type": "stream",
          "text": [
            "전체 샘플 중 길이가 40 이하인 샘플의 비율: 0.9238714924766165\n",
            "전체 샘플 중 길이가 10 이하인 샘플의 비율: 0.8162972753151687\n"
          ]
        }
      ],
      "source": [
        "def below_threshold_len(max_len, nested_list):\n",
        "  cnt = 0\n",
        "  for s in nested_list:\n",
        "    if(len(s.split()) <= max_len):\n",
        "        cnt = cnt + 1\n",
        "  print('전체 샘플 중 길이가 %s 이하인 샘플의 비율: %s'%(max_len, (cnt / len(nested_list))))\n",
        "below_threshold_len(text_max_len, data['text'])\n",
        "below_threshold_len(headlines_max_len,  data['headlines'])"
      ]
    },
    {
      "cell_type": "markdown",
      "id": "fc6b4dcf",
      "metadata": {
        "id": "fc6b4dcf"
      },
      "source": [
        "### 시작 토큰 , 종료 토큰 지정"
      ]
    },
    {
      "cell_type": "code",
      "execution_count": null,
      "id": "9cd713b9",
      "metadata": {
        "id": "9cd713b9",
        "outputId": "a972310e-85f5-4cd1-944d-67ad8e8a1516"
      },
      "outputs": [
        {
          "data": {
            "text/html": [
              "<div>\n",
              "<style scoped>\n",
              "    .dataframe tbody tr th:only-of-type {\n",
              "        vertical-align: middle;\n",
              "    }\n",
              "\n",
              "    .dataframe tbody tr th {\n",
              "        vertical-align: top;\n",
              "    }\n",
              "\n",
              "    .dataframe thead th {\n",
              "        text-align: right;\n",
              "    }\n",
              "</style>\n",
              "<table border=\"1\" class=\"dataframe\">\n",
              "  <thead>\n",
              "    <tr style=\"text-align: right;\">\n",
              "      <th></th>\n",
              "      <th>headlines</th>\n",
              "      <th>text</th>\n",
              "      <th>decoder_input</th>\n",
              "      <th>decoder_target</th>\n",
              "    </tr>\n",
              "  </thead>\n",
              "  <tbody>\n",
              "    <tr>\n",
              "      <th>0</th>\n",
              "      <td>upgrad learner switches to career in ml al wit...</td>\n",
              "      <td>saurav kant alumnus upgrad iiit pg program mac...</td>\n",
              "      <td>sostoken upgrad learner switches to career in ...</td>\n",
              "      <td>upgrad learner switches to career in ml al wit...</td>\n",
              "    </tr>\n",
              "    <tr>\n",
              "      <th>1</th>\n",
              "      <td>delhi techie wins free food from swiggy for on...</td>\n",
              "      <td>kunal shah credit card bill payment platform c...</td>\n",
              "      <td>sostoken delhi techie wins free food from swig...</td>\n",
              "      <td>delhi techie wins free food from swiggy for on...</td>\n",
              "    </tr>\n",
              "    <tr>\n",
              "      <th>2</th>\n",
              "      <td>new zealand end rohit sharma led india match w...</td>\n",
              "      <td>new zealand defeated india wickets fourth odi ...</td>\n",
              "      <td>sostoken new zealand end rohit sharma led indi...</td>\n",
              "      <td>new zealand end rohit sharma led india match w...</td>\n",
              "    </tr>\n",
              "    <tr>\n",
              "      <th>3</th>\n",
              "      <td>aegon life iterm insurance plan helps customer...</td>\n",
              "      <td>aegon life iterm insurance plan customers enjo...</td>\n",
              "      <td>sostoken aegon life iterm insurance plan helps...</td>\n",
              "      <td>aegon life iterm insurance plan helps customer...</td>\n",
              "    </tr>\n",
              "    <tr>\n",
              "      <th>4</th>\n",
              "      <td>have known hirani for yrs what if metoo claims...</td>\n",
              "      <td>speaking sexual harassment allegations rajkuma...</td>\n",
              "      <td>sostoken have known hirani for yrs what if met...</td>\n",
              "      <td>have known hirani for yrs what if metoo claims...</td>\n",
              "    </tr>\n",
              "  </tbody>\n",
              "</table>\n",
              "</div>"
            ],
            "text/plain": [
              "                                           headlines  \\\n",
              "0  upgrad learner switches to career in ml al wit...   \n",
              "1  delhi techie wins free food from swiggy for on...   \n",
              "2  new zealand end rohit sharma led india match w...   \n",
              "3  aegon life iterm insurance plan helps customer...   \n",
              "4  have known hirani for yrs what if metoo claims...   \n",
              "\n",
              "                                                text  \\\n",
              "0  saurav kant alumnus upgrad iiit pg program mac...   \n",
              "1  kunal shah credit card bill payment platform c...   \n",
              "2  new zealand defeated india wickets fourth odi ...   \n",
              "3  aegon life iterm insurance plan customers enjo...   \n",
              "4  speaking sexual harassment allegations rajkuma...   \n",
              "\n",
              "                                       decoder_input  \\\n",
              "0  sostoken upgrad learner switches to career in ...   \n",
              "1  sostoken delhi techie wins free food from swig...   \n",
              "2  sostoken new zealand end rohit sharma led indi...   \n",
              "3  sostoken aegon life iterm insurance plan helps...   \n",
              "4  sostoken have known hirani for yrs what if met...   \n",
              "\n",
              "                                      decoder_target  \n",
              "0  upgrad learner switches to career in ml al wit...  \n",
              "1  delhi techie wins free food from swiggy for on...  \n",
              "2  new zealand end rohit sharma led india match w...  \n",
              "3  aegon life iterm insurance plan helps customer...  \n",
              "4  have known hirani for yrs what if metoo claims...  "
            ]
          },
          "execution_count": 45,
          "metadata": {},
          "output_type": "execute_result"
        }
      ],
      "source": [
        "data['decoder_input'] = data['headlines'].apply(lambda x : 'sostoken '+ x)\n",
        "data['decoder_target'] = data['headlines'].apply(lambda x : x + ' eostoken')\n",
        "data.head()"
      ]
    },
    {
      "cell_type": "markdown",
      "id": "c2befa02",
      "metadata": {
        "id": "c2befa02"
      },
      "source": [
        "### Numpy 타입으로 저장"
      ]
    },
    {
      "cell_type": "code",
      "execution_count": null,
      "id": "2fae1718",
      "metadata": {
        "id": "2fae1718"
      },
      "outputs": [],
      "source": [
        "encoder_input = np.array(data['text']) # 인코더의 입력\n",
        "decoder_input = np.array(data['decoder_input']) # 디코더의 입력\n",
        "decoder_target = np.array(data['decoder_target']) # 디코더의 레이블"
      ]
    },
    {
      "cell_type": "markdown",
      "id": "ccfcc4e8",
      "metadata": {
        "id": "ccfcc4e8"
      },
      "source": [
        "### 정수 시퀀스 생성"
      ]
    },
    {
      "cell_type": "code",
      "execution_count": null,
      "id": "ded04b41",
      "metadata": {
        "id": "ded04b41",
        "outputId": "a29b80b7-272b-4dac-e6b4-20c44d796e51"
      },
      "outputs": [
        {
          "name": "stdout",
          "output_type": "stream",
          "text": [
            "[ 1935 67255  4685 ... 69648 13352 93408]\n"
          ]
        }
      ],
      "source": [
        "indices = np.arange(encoder_input.shape[0])\n",
        "np.random.shuffle(indices)\n",
        "print(indices)"
      ]
    },
    {
      "cell_type": "markdown",
      "id": "a276f175",
      "metadata": {
        "id": "a276f175"
      },
      "source": [
        " ### 샘플 순서를 정의 후 섞음"
      ]
    },
    {
      "cell_type": "code",
      "execution_count": null,
      "id": "bd34b6ba",
      "metadata": {
        "id": "bd34b6ba"
      },
      "outputs": [],
      "source": [
        "encoder_input = encoder_input[indices]\n",
        "decoder_input = decoder_input[indices]\n",
        "decoder_target = decoder_target[indices]"
      ]
    },
    {
      "cell_type": "markdown",
      "id": "a0eb7af0",
      "metadata": {
        "id": "a0eb7af0"
      },
      "source": [
        "### 데이터를 8:2의 비율로 훈련 데이터와 테스트 데이터로 분리"
      ]
    },
    {
      "cell_type": "code",
      "execution_count": null,
      "id": "c012d5d0",
      "metadata": {
        "id": "c012d5d0",
        "outputId": "6619a933-9803-4e24-b30d-0c9959a8b79f"
      },
      "outputs": [
        {
          "name": "stdout",
          "output_type": "stream",
          "text": [
            "테스트 데이터의 수 : 19672\n"
          ]
        }
      ],
      "source": [
        "n_of_val = int(len(encoder_input)*0.2)\n",
        "print('테스트 데이터의 수 :', n_of_val)"
      ]
    },
    {
      "cell_type": "markdown",
      "id": "45b757d1",
      "metadata": {
        "id": "45b757d1"
      },
      "source": [
        "###  전체 데이터를 양분"
      ]
    },
    {
      "cell_type": "code",
      "execution_count": null,
      "id": "5badc066",
      "metadata": {
        "id": "5badc066",
        "outputId": "8af17c18-5979-43ff-9c90-c91352ce35d0"
      },
      "outputs": [
        {
          "name": "stdout",
          "output_type": "stream",
          "text": [
            "훈련 데이터의 개수 : 78688\n",
            "훈련 레이블의 개수 : 78688\n",
            "테스트 데이터의 개수 : 19672\n",
            "테스트 레이블의 개수 : 19672\n"
          ]
        }
      ],
      "source": [
        "encoder_input_train = encoder_input[:-n_of_val]\n",
        "decoder_input_train = decoder_input[:-n_of_val]\n",
        "decoder_target_train = decoder_target[:-n_of_val]\n",
        "\n",
        "encoder_input_test = encoder_input[-n_of_val:]\n",
        "decoder_input_test = decoder_input[-n_of_val:]\n",
        "decoder_target_test = decoder_target[-n_of_val:]\n",
        "\n",
        "print('훈련 데이터의 개수 :', len(encoder_input_train))\n",
        "print('훈련 레이블의 개수 :', len(decoder_input_train))\n",
        "print('테스트 데이터의 개수 :', len(encoder_input_test))\n",
        "print('테스트 레이블의 개수 :', len(decoder_input_test))"
      ]
    },
    {
      "cell_type": "markdown",
      "id": "f8951c1c",
      "metadata": {
        "id": "f8951c1c"
      },
      "source": [
        "## 단어 집합(vocabulary) 만들기 및 정수 인코딩"
      ]
    },
    {
      "cell_type": "markdown",
      "id": "375d0387",
      "metadata": {
        "id": "375d0387"
      },
      "source": [
        "### 단어 집합 생성"
      ]
    },
    {
      "cell_type": "code",
      "execution_count": null,
      "id": "149da35e",
      "metadata": {
        "id": "149da35e"
      },
      "outputs": [],
      "source": [
        "src_tokenizer = Tokenizer() # 토크나이저 정의\n",
        "src_tokenizer.fit_on_texts(encoder_input_train) # 입력된 데이터로부터 단어 집합 생성"
      ]
    },
    {
      "cell_type": "markdown",
      "id": "5b7a5d40",
      "metadata": {
        "id": "5b7a5d40"
      },
      "source": [
        "### 데이터에서 7회 미만 단어의 비중 확인"
      ]
    },
    {
      "cell_type": "code",
      "execution_count": null,
      "id": "9f561e4f",
      "metadata": {
        "id": "9f561e4f",
        "outputId": "6e9408b8-d0de-49c1-f271-d8145d0d3ce0"
      },
      "outputs": [
        {
          "name": "stdout",
          "output_type": "stream",
          "text": [
            "단어 집합(vocabulary)의 크기 : 69724\n",
            "등장 빈도가 6번 이하인 희귀 단어의 수: 47514\n",
            "단어 집합에서 희귀 단어를 제외시킬 경우의 단어 집합의 크기 22210\n",
            "단어 집합에서 희귀 단어의 비율: 68.14583213814468\n",
            "전체 등장 빈도에서 희귀 단어 등장 빈도 비율: 3.4869482477457776\n"
          ]
        }
      ],
      "source": [
        "threshold = 7\n",
        "total_cnt = len(src_tokenizer.word_index) # 단어의 수\n",
        "rare_cnt = 0 # 등장 빈도수가 threshold보다 작은 단어의 개수를 카운트\n",
        "total_freq = 0 # 훈련 데이터의 전체 단어 빈도수 총 합\n",
        "rare_freq = 0 # 등장 빈도수가 threshold보다 작은 단어의 등장 빈도수의 총 합\n",
        "\n",
        "# 단어와 빈도수의 쌍(pair)을 key와 value로 받는다.\n",
        "for key, value in src_tokenizer.word_counts.items():\n",
        "    total_freq = total_freq + value\n",
        "\n",
        "    # 단어의 등장 빈도수가 threshold보다 작으면\n",
        "    if(value < threshold):\n",
        "        rare_cnt = rare_cnt + 1\n",
        "        rare_freq = rare_freq + value\n",
        "\n",
        "print('단어 집합(vocabulary)의 크기 :', total_cnt)\n",
        "print('등장 빈도가 %s번 이하인 희귀 단어의 수: %s'%(threshold - 1, rare_cnt))\n",
        "print('단어 집합에서 희귀 단어를 제외시킬 경우의 단어 집합의 크기 %s'%(total_cnt - rare_cnt))\n",
        "print(\"단어 집합에서 희귀 단어의 비율:\", (rare_cnt / total_cnt)*100)\n",
        "print(\"전체 등장 빈도에서 희귀 단어 등장 빈도 비율:\", (rare_freq / total_freq)*100)"
      ]
    },
    {
      "cell_type": "markdown",
      "id": "72e50315",
      "metadata": {
        "id": "72e50315"
      },
      "source": [
        "### 반복이 6회 이하인 단어 제거"
      ]
    },
    {
      "cell_type": "code",
      "execution_count": null,
      "id": "32b08fb8",
      "metadata": {
        "id": "32b08fb8"
      },
      "outputs": [],
      "source": [
        "src_vocab = 20000\n",
        "src_tokenizer = Tokenizer(num_words=src_vocab) # 단어 집합의 크기를 20000으로 제한\n",
        "src_tokenizer.fit_on_texts(encoder_input_train) # 단어 집합 재생성"
      ]
    },
    {
      "cell_type": "code",
      "execution_count": null,
      "id": "9cfbffa2",
      "metadata": {
        "id": "9cfbffa2",
        "outputId": "a6b097b8-bfa4-47a3-bcec-0db20014c462"
      },
      "outputs": [
        {
          "name": "stdout",
          "output_type": "stream",
          "text": [
            "[[8, 5075, 18, 5715, 6901, 223, 9159, 1404, 8131, 801, 8131, 627, 21, 440, 14, 3796, 3351, 1, 627, 21, 8, 1131, 67, 18, 5715, 3, 5715, 6901, 6, 2427, 2365, 62, 2619], [96, 9479, 848, 48, 528, 5035, 9160, 7454, 15, 2342, 134, 195, 801, 26, 76, 1062, 802, 103, 6, 801, 848, 528, 499, 3439, 664, 3660, 5588, 19460, 528, 801, 312, 5828, 233, 4624, 1611, 664], [404, 170, 829, 5333, 2248, 1, 40, 2, 102, 370, 193, 4398, 752, 1953, 722, 73, 3352, 111, 888, 2248, 1886, 224, 201, 147, 505, 3935, 13816, 2567, 3214, 505, 10043, 2746]]\n"
          ]
        }
      ],
      "source": [
        "# 텍스트 시퀀스를 정수 시퀀스로 변환\n",
        "encoder_input_train = src_tokenizer.texts_to_sequences(encoder_input_train)\n",
        "encoder_input_test = src_tokenizer.texts_to_sequences(encoder_input_test)\n",
        "\n",
        "# 잘 진행되었는지 샘플 출력\n",
        "print(encoder_input_train[:3])"
      ]
    },
    {
      "cell_type": "markdown",
      "id": "45186373",
      "metadata": {
        "id": "45186373"
      },
      "source": [
        "### 전체 단어 집합과 각 단어에 대한 빈도수 계산"
      ]
    },
    {
      "cell_type": "code",
      "execution_count": null,
      "id": "db1960b4",
      "metadata": {
        "id": "db1960b4"
      },
      "outputs": [],
      "source": [
        "tar_tokenizer = Tokenizer()\n",
        "tar_tokenizer.fit_on_texts(decoder_input_train)"
      ]
    },
    {
      "cell_type": "markdown",
      "id": "65d9e220",
      "metadata": {
        "id": "65d9e220"
      },
      "source": [
        "### 데이터에서 6회 미만 단어 비중 확인"
      ]
    },
    {
      "cell_type": "code",
      "execution_count": null,
      "id": "fedd7cfd",
      "metadata": {
        "id": "fedd7cfd",
        "outputId": "b83ce9c1-4f5e-419c-da47-622c8b79eafd"
      },
      "outputs": [
        {
          "name": "stdout",
          "output_type": "stream",
          "text": [
            "단어 집합(vocabulary)의 크기 : 30200\n",
            "등장 빈도가 5번 이하인 희귀 단어의 수: 19787\n",
            "단어 집합에서 희귀 단어를 제외시킬 경우의 단어 집합의 크기 10413\n",
            "단어 집합에서 희귀 단어의 비율: 65.51986754966887\n",
            "전체 등장 빈도에서 희귀 단어 등장 빈도 비율: 4.6429734771836655\n"
          ]
        }
      ],
      "source": [
        "threshold = 6\n",
        "total_cnt = len(tar_tokenizer.word_index) # 단어의 수\n",
        "rare_cnt = 0 # 등장 빈도수가 threshold보다 작은 단어의 개수를 카운트\n",
        "total_freq = 0 # 훈련 데이터의 전체 단어 빈도수 총 합\n",
        "rare_freq = 0 # 등장 빈도수가 threshold보다 작은 단어의 등장 빈도수의 총 합\n",
        "\n",
        "# 단어와 빈도수의 쌍(pair)을 key와 value로 받는다.\n",
        "for key, value in tar_tokenizer.word_counts.items():\n",
        "    total_freq = total_freq + value\n",
        "\n",
        "    # 단어의 등장 빈도수가 threshold보다 작으면\n",
        "    if(value < threshold):\n",
        "        rare_cnt = rare_cnt + 1\n",
        "        rare_freq = rare_freq + value\n",
        "\n",
        "print('단어 집합(vocabulary)의 크기 :', total_cnt)\n",
        "print('등장 빈도가 %s번 이하인 희귀 단어의 수: %s'%(threshold - 1, rare_cnt))\n",
        "print('단어 집합에서 희귀 단어를 제외시킬 경우의 단어 집합의 크기 %s'%(total_cnt - rare_cnt))\n",
        "print(\"단어 집합에서 희귀 단어의 비율:\", (rare_cnt / total_cnt)*100)\n",
        "print(\"전체 등장 빈도에서 희귀 단어 등장 빈도 비율:\", (rare_freq / total_freq)*100)"
      ]
    },
    {
      "cell_type": "markdown",
      "id": "1e2b6ea2",
      "metadata": {
        "id": "1e2b6ea2"
      },
      "source": [
        "### 5회 이하 단어 제거"
      ]
    },
    {
      "cell_type": "code",
      "execution_count": null,
      "id": "fc329f5b",
      "metadata": {
        "id": "fc329f5b",
        "outputId": "c8856aba-8e47-4992-8f06-cbb4acf36a24"
      },
      "outputs": [
        {
          "name": "stdout",
          "output_type": "stream",
          "text": [
            "input\n",
            "input  [[1, 3403, 4533, 78, 53, 972, 19, 3240, 15], [1, 165, 262, 2117, 372, 1009, 364, 3, 427], [1, 95, 154, 2961, 81, 103, 241, 10, 769, 3241, 12, 8776, 2691], [1, 326, 9, 2692, 2637, 14, 1296, 12, 499, 54], [1, 574, 2353, 856, 1787, 2118, 271, 7, 201, 4, 25]]\n",
            "target\n",
            "decoder  [[3403, 4533, 78, 53, 972, 19, 3240, 15, 2], [165, 262, 2117, 372, 1009, 364, 3, 427, 2], [95, 154, 2961, 81, 103, 241, 10, 769, 3241, 12, 8776, 2691, 2], [326, 9, 2692, 2637, 14, 1296, 12, 499, 54, 2], [574, 2353, 856, 1787, 2118, 271, 7, 201, 4, 25, 2]]\n"
          ]
        }
      ],
      "source": [
        "tar_vocab = 10000\n",
        "tar_tokenizer = Tokenizer(num_words=tar_vocab)\n",
        "tar_tokenizer.fit_on_texts(decoder_input_train)\n",
        "tar_tokenizer.fit_on_texts(decoder_target_train)\n",
        "\n",
        "# 텍스트 시퀀스를 정수 시퀀스로 변환\n",
        "decoder_input_train = tar_tokenizer.texts_to_sequences(decoder_input_train)\n",
        "decoder_target_train = tar_tokenizer.texts_to_sequences(decoder_target_train)\n",
        "decoder_input_test = tar_tokenizer.texts_to_sequences(decoder_input_test)\n",
        "decoder_target_test = tar_tokenizer.texts_to_sequences(decoder_target_test)\n",
        "\n",
        "# 잘 변환되었는지 확인\n",
        "print('input')\n",
        "print('input ',decoder_input_train[:5])\n",
        "print('target')\n",
        "print('decoder ',decoder_target_train[:5])"
      ]
    },
    {
      "cell_type": "code",
      "execution_count": null,
      "id": "70719bf5",
      "metadata": {
        "id": "70719bf5",
        "outputId": "5dbb30d3-c4f4-41d0-af97-4fc095829985"
      },
      "outputs": [
        {
          "name": "stdout",
          "output_type": "stream",
          "text": [
            "삭제할 훈련 데이터의 개수 : 0\n",
            "삭제할 테스트 데이터의 개수 : 0\n",
            "훈련 데이터의 개수 : 78688\n",
            "훈련 레이블의 개수 : 78688\n",
            "테스트 데이터의 개수 : 19672\n",
            "테스트 레이블의 개수 : 19672\n"
          ]
        }
      ],
      "source": [
        "drop_train = [index for index, sentence in enumerate(decoder_input_train) if len(sentence) == 1]\n",
        "drop_test = [index for index, sentence in enumerate(decoder_input_test) if len(sentence) == 1]\n",
        "\n",
        "print('삭제할 훈련 데이터의 개수 :', len(drop_train))\n",
        "print('삭제할 테스트 데이터의 개수 :', len(drop_test))\n",
        "\n",
        "encoder_input_train = [sentence for index, sentence in enumerate(encoder_input_train) if index not in drop_train]\n",
        "decoder_input_train = [sentence for index, sentence in enumerate(decoder_input_train) if index not in drop_train]\n",
        "decoder_target_train = [sentence for index, sentence in enumerate(decoder_target_train) if index not in drop_train]\n",
        "\n",
        "encoder_input_test = [sentence for index, sentence in enumerate(encoder_input_test) if index not in drop_test]\n",
        "decoder_input_test = [sentence for index, sentence in enumerate(decoder_input_test) if index not in drop_test]\n",
        "decoder_target_test = [sentence for index, sentence in enumerate(decoder_target_test) if index not in drop_test]\n",
        "\n",
        "print('훈련 데이터의 개수 :', len(encoder_input_train))\n",
        "print('훈련 레이블의 개수 :', len(decoder_input_train))\n",
        "print('테스트 데이터의 개수 :', len(encoder_input_test))\n",
        "print('테스트 레이블의 개수 :', len(decoder_input_test))"
      ]
    },
    {
      "cell_type": "markdown",
      "id": "1ff1d7fe",
      "metadata": {
        "id": "1ff1d7fe"
      },
      "source": [
        "### 패딩"
      ]
    },
    {
      "cell_type": "code",
      "execution_count": null,
      "id": "2dd9d955",
      "metadata": {
        "id": "2dd9d955"
      },
      "outputs": [],
      "source": [
        "encoder_input_train = pad_sequences(encoder_input_train, maxlen=text_max_len, padding='post')\n",
        "encoder_input_test = pad_sequences(encoder_input_test, maxlen=text_max_len, padding='post')\n",
        "decoder_input_train = pad_sequences(decoder_input_train, maxlen=headlines_max_len, padding='post')\n",
        "decoder_target_train = pad_sequences(decoder_target_train, maxlen=headlines_max_len, padding='post')\n",
        "decoder_input_test = pad_sequences(decoder_input_test, maxlen=headlines_max_len, padding='post')\n",
        "decoder_target_test = pad_sequences(decoder_target_test, maxlen=headlines_max_len, padding='post')"
      ]
    },
    {
      "cell_type": "markdown",
      "id": "9bbb88b7",
      "metadata": {
        "id": "9bbb88b7"
      },
      "source": [
        "# 모델 설계"
      ]
    },
    {
      "cell_type": "markdown",
      "id": "16d8c8a8",
      "metadata": {
        "id": "16d8c8a8"
      },
      "source": [
        "## 인코더 설계"
      ]
    },
    {
      "cell_type": "code",
      "execution_count": null,
      "id": "c29cf4a1",
      "metadata": {
        "id": "c29cf4a1"
      },
      "outputs": [],
      "source": [
        "from tensorflow.keras.layers import Input, LSTM, Embedding, Dense, Concatenate, TimeDistributed\n",
        "from tensorflow.keras.models import Model\n",
        "from tensorflow.keras.callbacks import EarlyStopping, ModelCheckpoint\n",
        "\n",
        "\n",
        "# 인코더 설계 시작\n",
        "embedding_dim = 128\n",
        "hidden_size = 256\n",
        "\n",
        "# 인코더\n",
        "encoder_inputs = Input(shape=(text_max_len,))\n",
        "\n",
        "# 인코더의 임베딩 층\n",
        "enc_emb = Embedding(src_vocab, embedding_dim)(encoder_inputs)\n",
        "\n",
        "# 인코더의 LSTM 1\n",
        "# encoder_lstm1 = LSTM(hidden_size, return_sequences=True, return_state=True ,dropout = 0.4, recurrent_dropout = 0.4)\n",
        "encoder_lstm1 = LSTM(hidden_size, return_sequences=True, return_state=True ,dropout = 0.4)\n",
        "encoder_output1, state_h1, state_c1 = encoder_lstm1(enc_emb)\n",
        "\n",
        "# 인코더의 LSTM 2\n",
        "encoder_lstm2 = LSTM(hidden_size, return_sequences=True ,return_state=True ,dropout=0.4)\n",
        "encoder_output2,state_h2,state_c2= encoder_lstm2(encoder_output1)\n",
        "\n",
        "# 인코더의 LSTM 3\n",
        "encoder_lstm3=LSTM(hidden_size , return_state=True , return_sequences=True ,dropout=0.4)\n",
        "encoder_outputs,state_h,state_c= encoder_lstm3(encoder_output2)"
      ]
    },
    {
      "cell_type": "markdown",
      "id": "4613c475",
      "metadata": {
        "id": "4613c475"
      },
      "source": [
        "## 디코더 설계"
      ]
    },
    {
      "cell_type": "code",
      "execution_count": null,
      "id": "c300fb0a",
      "metadata": {
        "id": "c300fb0a",
        "outputId": "f02eff77-6e4e-4906-c822-3820a4e1c1cc"
      },
      "outputs": [
        {
          "name": "stdout",
          "output_type": "stream",
          "text": [
            "Model: \"model_2\"\n",
            "__________________________________________________________________________________________________\n",
            "Layer (type)                    Output Shape         Param #     Connected to                     \n",
            "==================================================================================================\n",
            "input_3 (InputLayer)            [(None, 40)]         0                                            \n",
            "__________________________________________________________________________________________________\n",
            "embedding_2 (Embedding)         (None, 40, 128)      2560000     input_3[0][0]                    \n",
            "__________________________________________________________________________________________________\n",
            "lstm_4 (LSTM)                   [(None, 40, 256), (N 394240      embedding_2[0][0]                \n",
            "__________________________________________________________________________________________________\n",
            "input_4 (InputLayer)            [(None, None)]       0                                            \n",
            "__________________________________________________________________________________________________\n",
            "lstm_5 (LSTM)                   [(None, 40, 256), (N 525312      lstm_4[0][0]                     \n",
            "__________________________________________________________________________________________________\n",
            "embedding_3 (Embedding)         (None, None, 128)    1280000     input_4[0][0]                    \n",
            "__________________________________________________________________________________________________\n",
            "lstm_6 (LSTM)                   [(None, 40, 256), (N 525312      lstm_5[0][0]                     \n",
            "__________________________________________________________________________________________________\n",
            "lstm_7 (LSTM)                   [(None, None, 256),  394240      embedding_3[0][0]                \n",
            "                                                                 lstm_6[0][1]                     \n",
            "                                                                 lstm_6[0][2]                     \n",
            "__________________________________________________________________________________________________\n",
            "dense_2 (Dense)                 (None, None, 10000)  2570000     lstm_7[0][0]                     \n",
            "==================================================================================================\n",
            "Total params: 8,249,104\n",
            "Trainable params: 8,249,104\n",
            "Non-trainable params: 0\n",
            "__________________________________________________________________________________________________\n"
          ]
        }
      ],
      "source": [
        "# 디코더 설계\n",
        "decoder_inputs = Input(shape=(None,))\n",
        "\n",
        "# 디코더의 임베딩 층\n",
        "dec_emb_layer = Embedding(tar_vocab, embedding_dim)\n",
        "dec_emb = dec_emb_layer(decoder_inputs)\n",
        "\n",
        "# 디코더의 LSTM\n",
        "# decoder_lstm = LSTM(hidden_size, return_sequences=True, return_state=True, dropout=0.4, recurrent_dropout=0.2)\n",
        "decoder_lstm = LSTM(hidden_size, return_sequences=True, return_state=True, dropout=0.4)\n",
        "decoder_outputs, _, _ = decoder_lstm(dec_emb, initial_state=[state_h, state_c])\n",
        "\n",
        "# 디코더의 출력층\n",
        "decoder_softmax_layer = Dense(tar_vocab, activation='softmax')\n",
        "decoder_softmax_outputs = decoder_softmax_layer(decoder_outputs)\n",
        "\n",
        "# 모델 정의\n",
        "model = Model([encoder_inputs, decoder_inputs], decoder_softmax_outputs)\n",
        "model.summary()"
      ]
    },
    {
      "cell_type": "markdown",
      "id": "1a6d2fe8",
      "metadata": {
        "id": "1a6d2fe8"
      },
      "source": [
        "## 어텐션 메커니즘"
      ]
    },
    {
      "cell_type": "markdown",
      "id": "277de0d1",
      "metadata": {
        "id": "277de0d1"
      },
      "source": [
        "### TensorFlow에서 어텐션 함수를 가져와서 디코더의 출력층과 결합"
      ]
    },
    {
      "cell_type": "code",
      "execution_count": null,
      "id": "1974c816",
      "metadata": {
        "id": "1974c816",
        "outputId": "c7457905-b38b-496c-c678-95e78abc3a5e"
      },
      "outputs": [
        {
          "name": "stdout",
          "output_type": "stream",
          "text": [
            "Model: \"model_3\"\n",
            "__________________________________________________________________________________________________\n",
            "Layer (type)                    Output Shape         Param #     Connected to                     \n",
            "==================================================================================================\n",
            "input_3 (InputLayer)            [(None, 40)]         0                                            \n",
            "__________________________________________________________________________________________________\n",
            "embedding_2 (Embedding)         (None, 40, 128)      2560000     input_3[0][0]                    \n",
            "__________________________________________________________________________________________________\n",
            "lstm_4 (LSTM)                   [(None, 40, 256), (N 394240      embedding_2[0][0]                \n",
            "__________________________________________________________________________________________________\n",
            "input_4 (InputLayer)            [(None, None)]       0                                            \n",
            "__________________________________________________________________________________________________\n",
            "lstm_5 (LSTM)                   [(None, 40, 256), (N 525312      lstm_4[0][0]                     \n",
            "__________________________________________________________________________________________________\n",
            "embedding_3 (Embedding)         (None, None, 128)    1280000     input_4[0][0]                    \n",
            "__________________________________________________________________________________________________\n",
            "lstm_6 (LSTM)                   [(None, 40, 256), (N 525312      lstm_5[0][0]                     \n",
            "__________________________________________________________________________________________________\n",
            "lstm_7 (LSTM)                   [(None, None, 256),  394240      embedding_3[0][0]                \n",
            "                                                                 lstm_6[0][1]                     \n",
            "                                                                 lstm_6[0][2]                     \n",
            "__________________________________________________________________________________________________\n",
            "attention_layer (AdditiveAttent (None, None, 256)    256         lstm_7[0][0]                     \n",
            "                                                                 lstm_6[0][0]                     \n",
            "__________________________________________________________________________________________________\n",
            "concat_layer (Concatenate)      (None, None, 512)    0           lstm_7[0][0]                     \n",
            "                                                                 attention_layer[0][0]            \n",
            "__________________________________________________________________________________________________\n",
            "dense_3 (Dense)                 (None, None, 10000)  5130000     concat_layer[0][0]               \n",
            "==================================================================================================\n",
            "Total params: 10,809,360\n",
            "Trainable params: 10,809,360\n",
            "Non-trainable params: 0\n",
            "__________________________________________________________________________________________________\n"
          ]
        }
      ],
      "source": [
        "from tensorflow.keras.layers import AdditiveAttention\n",
        "\n",
        "# 어텐션 층(어텐션 함수)\n",
        "attn_layer = AdditiveAttention(name='attention_layer')\n",
        "\n",
        "# 인코더와 디코더의 모든 time step의 hidden state를 어텐션 층에 전달하고 결과를 리턴\n",
        "attn_out = attn_layer([decoder_outputs, encoder_outputs])\n",
        "\n",
        "\n",
        "# 어텐션의 결과와 디코더의 hidden state들을 연결\n",
        "decoder_concat_input = Concatenate(axis=-1, name='concat_layer')([decoder_outputs, attn_out])\n",
        "\n",
        "# 디코더의 출력층\n",
        "decoder_softmax_layer = Dense(tar_vocab, activation='softmax')\n",
        "decoder_softmax_outputs = decoder_softmax_layer(decoder_concat_input)\n",
        "\n",
        "# 모델 정의\n",
        "model = Model([encoder_inputs, decoder_inputs], decoder_softmax_outputs)\n",
        "model.summary()"
      ]
    },
    {
      "cell_type": "markdown",
      "id": "c1647252",
      "metadata": {
        "id": "c1647252"
      },
      "source": [
        "# 모델 훈련"
      ]
    },
    {
      "cell_type": "code",
      "execution_count": null,
      "id": "b079e766",
      "metadata": {
        "id": "b079e766",
        "outputId": "ba45cd75-e4d3-42f8-8d31-3224c9471593"
      },
      "outputs": [
        {
          "name": "stdout",
          "output_type": "stream",
          "text": [
            "Epoch 1/50\n",
            "308/308 [==============================] - 33s 91ms/step - loss: 4.5173 - val_loss: 4.6018\n",
            "Epoch 2/50\n",
            "308/308 [==============================] - 27s 89ms/step - loss: 4.3223 - val_loss: 4.5147\n",
            "Epoch 3/50\n",
            "308/308 [==============================] - 27s 87ms/step - loss: 4.1806 - val_loss: 4.4379\n",
            "Epoch 4/50\n",
            "308/308 [==============================] - 27s 87ms/step - loss: 4.0598 - val_loss: 4.3879\n",
            "Epoch 5/50\n",
            "308/308 [==============================] - 27s 88ms/step - loss: 3.9516 - val_loss: 4.3341\n",
            "Epoch 6/50\n",
            "308/308 [==============================] - 27s 88ms/step - loss: 3.8516 - val_loss: 4.2882\n",
            "Epoch 7/50\n",
            "308/308 [==============================] - 27s 88ms/step - loss: 3.7626 - val_loss: 4.2675\n",
            "Epoch 8/50\n",
            "308/308 [==============================] - 27s 87ms/step - loss: 3.6824 - val_loss: 4.2321\n",
            "Epoch 9/50\n",
            "308/308 [==============================] - 27s 87ms/step - loss: 3.6038 - val_loss: 4.2103\n",
            "Epoch 10/50\n",
            "308/308 [==============================] - 27s 88ms/step - loss: 3.5338 - val_loss: 4.1983\n",
            "Epoch 11/50\n",
            "308/308 [==============================] - 27s 88ms/step - loss: 3.4733 - val_loss: 4.1946\n",
            "Epoch 12/50\n",
            "308/308 [==============================] - 27s 87ms/step - loss: 3.4154 - val_loss: 4.1778\n",
            "Epoch 13/50\n",
            "308/308 [==============================] - 27s 87ms/step - loss: 3.3528 - val_loss: 4.1608\n",
            "Epoch 14/50\n",
            "308/308 [==============================] - 27s 87ms/step - loss: 3.3012 - val_loss: 4.1534\n",
            "Epoch 15/50\n",
            "308/308 [==============================] - 27s 87ms/step - loss: 3.2479 - val_loss: 4.1517\n",
            "Epoch 16/50\n",
            "308/308 [==============================] - 27s 87ms/step - loss: 3.2011 - val_loss: 4.1425\n",
            "Epoch 17/50\n",
            "308/308 [==============================] - 27s 87ms/step - loss: 3.1558 - val_loss: 4.1459\n",
            "Epoch 18/50\n",
            "308/308 [==============================] - 27s 88ms/step - loss: 3.1156 - val_loss: 4.1348\n",
            "Epoch 19/50\n",
            "308/308 [==============================] - 27s 87ms/step - loss: 3.0773 - val_loss: 4.1385\n",
            "Epoch 20/50\n",
            "308/308 [==============================] - 27s 88ms/step - loss: 3.0377 - val_loss: 4.1347\n",
            "Epoch 21/50\n",
            "308/308 [==============================] - 27s 88ms/step - loss: 3.0010 - val_loss: 4.1475\n",
            "Epoch 22/50\n",
            "308/308 [==============================] - 27s 88ms/step - loss: 2.9596 - val_loss: 4.1443\n",
            "Epoch 23/50\n",
            "308/308 [==============================] - 27s 88ms/step - loss: 2.9197 - val_loss: 4.1413\n",
            "Epoch 24/50\n",
            "308/308 [==============================] - 27s 88ms/step - loss: 2.8890 - val_loss: 4.1437\n",
            "Epoch 25/50\n",
            "308/308 [==============================] - 27s 88ms/step - loss: 2.8611 - val_loss: 4.1384\n",
            "Epoch 26/50\n",
            "308/308 [==============================] - 27s 88ms/step - loss: 2.8314 - val_loss: 4.1555\n",
            "Epoch 27/50\n",
            "308/308 [==============================] - 27s 88ms/step - loss: 2.8043 - val_loss: 4.1499\n",
            "Epoch 00027: early stopping\n"
          ]
        }
      ],
      "source": [
        "model.compile(optimizer='rmsprop', loss='sparse_categorical_crossentropy')\n",
        "es = EarlyStopping(monitor='val_loss', patience=7, verbose=1)\n",
        "history = model.fit(x=[encoder_input_train, decoder_input_train], y=decoder_target_train, \\\n",
        "          validation_data=([encoder_input_test, decoder_input_test], decoder_target_test), \\\n",
        "          batch_size=256, callbacks=[es], epochs=50)"
      ]
    },
    {
      "cell_type": "markdown",
      "id": "e1159f3b",
      "metadata": {
        "id": "e1159f3b"
      },
      "source": [
        "### 손실 시각화"
      ]
    },
    {
      "cell_type": "code",
      "execution_count": null,
      "id": "e1ac7bdc",
      "metadata": {
        "id": "e1ac7bdc",
        "outputId": "9a7dc5b0-9e8c-4917-b615-134fab976486"
      },
      "outputs": [
        {
          "data": {
            "image/png": "[encoded data removed]",
            "text/plain": [
              "<Figure size 432x288 with 1 Axes>"
            ]
          },
          "metadata": {
            "needs_background": "light"
          },
          "output_type": "display_data"
        }
      ],
      "source": [
        "plt.plot(history.history['loss'], label='train')\n",
        "plt.plot(history.history['val_loss'], label='test')\n",
        "plt.legend()\n",
        "plt.show()"
      ]
    },
    {
      "cell_type": "markdown",
      "id": "88edc57c",
      "metadata": {
        "id": "88edc57c"
      },
      "source": [
        "# 인퍼런스 모델 생성"
      ]
    },
    {
      "cell_type": "code",
      "execution_count": null,
      "id": "ef4f911e",
      "metadata": {
        "id": "ef4f911e"
      },
      "outputs": [],
      "source": [
        "src_index_to_word = src_tokenizer.index_word # 원문 단어 집합에서 정수 -> 단어를 얻음\n",
        "tar_word_to_index = tar_tokenizer.word_index # 요약 단어 집합에서 단어 -> 정수를 얻음\n",
        "tar_index_to_word = tar_tokenizer.index_word # 요약 단어 집합에서 정수 -> 단어를 얻음"
      ]
    },
    {
      "cell_type": "markdown",
      "id": "2dc7963d",
      "metadata": {
        "id": "2dc7963d"
      },
      "source": [
        "### 인코더 설계"
      ]
    },
    {
      "cell_type": "code",
      "execution_count": null,
      "id": "8c15e3b8",
      "metadata": {
        "id": "8c15e3b8"
      },
      "outputs": [],
      "source": [
        "# 인코더 설계\n",
        "encoder_model = Model(inputs=encoder_inputs, outputs=[encoder_outputs, state_h, state_c])\n",
        "\n",
        "# 이전 시점의 상태들을 저장하는 텐서\n",
        "decoder_state_input_h = Input(shape=(hidden_size,))\n",
        "decoder_state_input_c = Input(shape=(hidden_size,))\n",
        "\n",
        "dec_emb2 = dec_emb_layer(decoder_inputs)\n",
        "\n",
        "# 문장의 다음 단어를 예측하기 위해서 초기 상태(initial_state)를 이전 시점의 상태로 사용. 이는 뒤의 함수 decode_sequence()에 구현\n",
        "# 훈련 과정에서와 달리 LSTM의 리턴하는 은닉 상태와 셀 상태인 state_h와 state_c를 버리지 않음.\n",
        "decoder_outputs2, state_h2, state_c2 = decoder_lstm(dec_emb2, initial_state=[decoder_state_input_h, decoder_state_input_c])"
      ]
    },
    {
      "cell_type": "markdown",
      "id": "f9c2d7b0",
      "metadata": {
        "id": "f9c2d7b0"
      },
      "source": [
        "### 어텐션 출력층 설계"
      ]
    },
    {
      "cell_type": "code",
      "execution_count": null,
      "id": "74b39ee7",
      "metadata": {
        "id": "74b39ee7"
      },
      "outputs": [],
      "source": [
        "# 어텐션 함수\n",
        "decoder_hidden_state_input = Input(shape=(text_max_len, hidden_size))\n",
        "attn_out_inf = attn_layer([decoder_outputs2, decoder_hidden_state_input])\n",
        "decoder_inf_concat = Concatenate(axis=-1, name='concat')([decoder_outputs2, attn_out_inf])\n",
        "\n",
        "# 디코더의 출력층\n",
        "decoder_outputs2 = decoder_softmax_layer(decoder_inf_concat)\n",
        "\n",
        "# 최종 디코더 모델\n",
        "decoder_model = Model(\n",
        "    [decoder_inputs] + [decoder_hidden_state_input,decoder_state_input_h, decoder_state_input_c],\n",
        "    [decoder_outputs2] + [state_h2, state_c2])\n"
      ]
    },
    {
      "cell_type": "markdown",
      "id": "55f02468",
      "metadata": {
        "id": "55f02468"
      },
      "source": [
        "### 인퍼런스 단계에서 단어 시퀀스를 완성하는 함수 생성"
      ]
    },
    {
      "cell_type": "code",
      "execution_count": null,
      "id": "e7ed5085",
      "metadata": {
        "id": "e7ed5085"
      },
      "outputs": [],
      "source": [
        "def decode_sequence(input_seq):\n",
        "    # 입력으로부터 인코더의 상태를 얻음\n",
        "    e_out, e_h, e_c = encoder_model.predict(input_seq)\n",
        "\n",
        "     # <SOS>에 해당하는 토큰 생성\n",
        "    target_seq = np.zeros((1,1))\n",
        "    target_seq[0, 0] = tar_word_to_index['sostoken']\n",
        "\n",
        "    stop_condition = False\n",
        "    decoded_sentence = ''\n",
        "    while not stop_condition: # stop_condition이 True가 될 때까지 루프 반복\n",
        "\n",
        "        output_tokens, h, c = decoder_model.predict([target_seq] + [e_out, e_h, e_c])\n",
        "        sampled_token_index = np.argmax(output_tokens[0, -1, :])\n",
        "        sampled_token = tar_index_to_word[sampled_token_index]\n",
        "\n",
        "        if (sampled_token!='eostoken'):\n",
        "            decoded_sentence += ' '+sampled_token\n",
        "\n",
        "        #  <eos>에 도달하거나 최대 길이를 넘으면 중단.\n",
        "        if (sampled_token == 'eostoken'  or len(decoded_sentence.split()) >= (headlines_max_len-1)):\n",
        "            stop_condition = True\n",
        "\n",
        "        # 길이가 1인 타겟 시퀀스를 업데이트\n",
        "        target_seq = np.zeros((1,1))\n",
        "        target_seq[0, 0] = sampled_token_index\n",
        "\n",
        "        # 상태를 업데이트 합니다.\n",
        "        e_h, e_c = h, c\n",
        "\n",
        "    return decoded_sentence"
      ]
    },
    {
      "cell_type": "markdown",
      "id": "9e7d8009",
      "metadata": {
        "id": "9e7d8009"
      },
      "source": [
        "# 모델 테스트"
      ]
    },
    {
      "cell_type": "code",
      "execution_count": null,
      "id": "394de76a",
      "metadata": {
        "id": "394de76a"
      },
      "outputs": [],
      "source": [
        "# 원문의 정수 시퀀스를 텍스트 시퀀스로 변환\n",
        "def seq2text(input_seq):\n",
        "    temp=''\n",
        "    for i in input_seq:\n",
        "        if (i!=0):\n",
        "            temp = temp + src_index_to_word[i]+' '\n",
        "    return temp\n",
        "\n",
        "# 요약문의 정수 시퀀스를 텍스트 시퀀스로 변환\n",
        "def seq2summary(input_seq):\n",
        "    temp=''\n",
        "    for i in input_seq:\n",
        "        if (i!=0 and tar_index_to_word[i]!='sostoken'):\n",
        "            temp = temp + tar_index_to_word[i]+' '\n",
        "    return temp"
      ]
    },
    {
      "cell_type": "markdown",
      "id": "79b785fd",
      "metadata": {
        "id": "79b785fd"
      },
      "source": [
        "### 테스트 데이터 샘플 실제 요약과 예측된 요약을 비교"
      ]
    },
    {
      "cell_type": "code",
      "execution_count": null,
      "id": "8e290cef",
      "metadata": {
        "id": "8e290cef",
        "outputId": "9ced4b58-bb38-4aa9-cf0f-c917c23b17d7"
      },
      "outputs": [
        {
          "name": "stdout",
          "output_type": "stream",
          "text": [
            "원문 : brighton ensured playing next premier league season win manchester united friday german midfielder gross headed home cross jose th minute awarded goal line technology result lifted brighton th place points assured finishing bottom three \n",
            "실제 요약 : man united confirm stay next season \n",
            "예측 요약 :  ronaldo scores as juventus win first win\n",
            "\n",
            "\n",
            "원문 : mumbai police saturday arrested year old man allegedly flashing woman churchgate year old woman raised alarm allegedly overtook flashed man granted bail reportedly said fixing zip trousers police said could case \n",
            "실제 요약 : year old man arrested for at woman in mumbai \n",
            "예측 요약 :  mumbai woman arrested for throwing woman into mumbai\n",
            "\n",
            "\n",
            "원문 : mobile advertising startup inmobi co founder amit gupta set launch bike sharing startup india take ceo role startup bengaluru based startup let users rent bicycle app charge riders every minutes use users allowed unlock bikes scanning qr code \n",
            "실제 요약 : co founder to launch bike sharing startup in india \n",
            "예측 요약 :  indian startup launches co founder startup\n",
            "\n",
            "\n",
            "원문 : senegal born singer announced launch cryptocurrency called available sale two weeks part venture singer plans complete crypto based city acres land located near capital city senegal land gifted president \n",
            "실제 요약 : singer to launch cryptocurrency called \n",
            "예측 요약 :  crypto exchange offers to launch new name\n",
            "\n",
            "\n",
            "원문 : social media platform twitter blocked photos videos news tagged bisexual hashtag appear search results according users block includes words like butt searches photos lesbian gay hashtags still yield results twitter apologised said removal search results certain terms error \n",
            "실제 요약 : twitter blocks photos videos with hashtag \n",
            "예측 요약 :  facebook twitter users post posts photos of users\n",
            "\n",
            "\n",
            "원문 : playing australia sharjah april sachin tendulkar scored runs ensure india spot final tri series match interrupted innings came popularly known desert storm tendulkar went score another century two days later help india win tournament \n",
            "실제 요약 : years since sachin tendulkar desert storm in \n",
            "예측 요약 :  india end day of day after losing vs balls\n",
            "\n",
            "\n",
            "원문 : rjd candidate kumar krishna mohan wednesday bypolls bihar assembly constituency rjd candidate sarfaraz alam lok sabha constituency bjp candidate rani pandey state assembly seat election commission recorded voter turnout three constituencies \n",
            "실제 요약 : rjd wins bjp bags in bihar bypolls \n",
            "예측 요약 :  bjp wins seat in bihar assembly elections\n",
            "\n",
            "\n",
            "원문 : new research shown mountain lion species scared humans flee hearing human voices scientists placed devices activated played sounds talking humans mountain lions approached experiments conducted mountain lions fled cases soon heard human voices \n",
            "실제 요약 : mountain lions fear humans flee on hearing voices study \n",
            "예측 요약 :  new species of species in human species\n",
            "\n",
            "\n",
            "원문 : indian batsman rohit sharma trolled teammate kedar jadhav posting photo instagram alongside spinners kuldeep yadav yuzvendra chahal nagpur come company two wrist spinners chahal kuldeep sure even knows bowls read photo caption \n",
            "실제 요약 : rohit sharma trolls jadhav bowling on instagram \n",
            "예측 요약 :  chahal trolls chahal over rohit sharma\n",
            "\n",
            "\n",
            "원문 : kangana ranaut speaking metoo movement said good thing people become absolutely cautious behaviour person think times humiliating anyone violating human rights added kangana said still lot changes made many men called \n",
            "실제 요약 : people have become of their behaviour kangana on metoo \n",
            "예측 요약 :  have not have done on social media kangana\n",
            "\n",
            "\n",
            "원문 : pm narendra modi official namo app started accepting micro donations starting giving people option donate feature made available android monday expanded include ios tuesday payment platforms options bjp website also allows donations pre determined amounts \n",
            "실제 요약 : pm modi app starts accepting donations from to \n",
            "예측 요약 :  pm modi launches website to app website\n",
            "\n",
            "\n",
            "원문 : least one person killed three others injured workers ruling naga people front nationalist democratic progressive party clashed polling booth nagaland tuesday separate incident crude bomb thrown polling booth injuring one person polling nagaland assembly elections commenced \n",
            "실제 요약 : one killed as political parties clash during nagaland polls \n",
            "예측 요약 :  killed injured in clash with panchayat polls\n",
            "\n",
            "\n",
            "원문 : kolkata knight riders tuesday ended rajasthan royals three match winning streak dinesh karthik finished chase six second time jaipur based side ipl kkr kuldeep yadav became eighth left arm spinner take four wicket haul ipl kkr third points table points \n",
            "실제 요약 : finishes off chase with as kkr end rr win streak \n",
            "예측 요약 :  kkr beat kkr to win ipl matches in kkr\n",
            "\n",
            "\n",
            "원문 : asked give message england year old test debutant pope indian captain virat kohli said would say enjoy occasion get many runs pope england th youngest test debutant scored runs average become second highest run scorer county championship summer \n",
            "실제 요약 : enjoy do not score many runs kohli to eng debutant \n",
            "예측 요약 :  kohli is the of england captain\n",
            "\n",
            "\n",
            "원문 : newly elected shimla mayor deputy mayor rakesh kumar sharma performed bjp members got offices sprayed taking charge duo reportedly supposed take charge last week waited auspicious day selected priest begin work priority providing clean water said \n",
            "실제 요약 : shimla mayor in office before starting work \n",
            "예측 요약 :  tmc leader gets resignation after he has become\n",
            "\n",
            "\n",
            "원문 : uber posted loss billion quarter ending september million loss previous quarter startup also posted billion revenue period quarter last year comes ahead uber anticipated ipo next year could reportedly value startup billion \n",
            "실제 요약 : uber posts billion loss in its third quarter \n",
            "예측 요약 :  uber posts billion loss in revenue quarter\n",
            "\n",
            "\n",
            "원문 : twitter could lose much billion market valuation us president donald trump quits social media platform according reports better free advertising world president united states analyst said trump posted tweets since joined platform \n",
            "실제 요약 : donald trump worth billion to twitter reports \n",
            "예측 요약 :  trump valued at billion dollar for billion\n",
            "\n",
            "\n",
            "원문 : rss leader kumar monday said many crimes satan stopped people consume cow meat claiming religion practice killing cows said society needs right deal problem comes man lynched rajasthan alwar suspicions cow smuggling \n",
            "실제 요약 : stop if people do not eat cow meat rss leader \n",
            "예측 요약 :  rss chief calls cow abuse of muslims\n",
            "\n",
            "\n",
            "원문 : talking death threats received son salman khan gangster nehra salim khan said first time received threats everyone concerned work cannot stop added salim said added security salman case always good team security personnel deployed \n",
            "실제 요약 : not the st time on death threats to son salman \n",
            "예측 요약 :  my son was not my brother says salman khan\n",
            "\n",
            "\n",
            "원문 : trained classical music singer pooja saturday hours one minute seconds attempt set new guinness world record popular songs four languages hindi tamil english korean video evidence sent guinness committee verification \n",
            "실제 요약 : chennai girl for over hrs in record attempt \n",
            "예측 요약 :  longest shooter sets record record\n",
            "\n",
            "\n",
            "원문 : former reserve bank india chief raghuram rajan thursday said never resigned post step term ended talking demonetisation rajan said still entire data talk demonetisation date fixed demonetisation \n",
            "실제 요약 : never resigned from rbi term just ended raghuram rajan \n",
            "예측 요약 :  rbi is the best rajan on governor\n",
            "\n",
            "\n",
            "원문 : website british fashion label goat crashed within minutes meghan markle pictured wearing one dresses prince charles th birthday celebration website minutes brand confirmed crashed meghan spotted wearing dress dress available brand website \n",
            "실제 요약 : brand website crashes after meghan markle wears its dress \n",
            "예측 요약 :  ton misses runway at ces\n",
            "\n",
            "\n",
            "원문 : supreme court monday favoured installation cctv cameras audio recording court proceedings including complex constitutional courts countries audio video recording matter privacy judges sc said directed centre submit feasibility report connection matter \n",
            "실제 요약 : sc favours video audio recording of all court proceedings \n",
            "예측 요약 :  sc refuses to use of live in court order\n",
            "\n",
            "\n",
            "원문 : electric mass mobility system maharashtra cm devendra fadnavis union transport minister nitin gadkari flagged electric public transport vehicles nagpur friday pilot project comprising taxis rickshaws four charging stations would run ola app launch marked third anniversary narendra modi led government \n",
            "실제 요약 : india first fleet of electric taxis launched in nagpur \n",
            "예측 요약 :  maharashtra cm unveils project to launch electric buses\n",
            "\n",
            "\n",
            "원문 : swedish activist prevented afghan asylum seeker deportation refusing sit removed flight protest footage emerged social media heard saying man likely get killed afghanistan following taken plane \n",
            "실제 요약 : stops deportation of man by refusing to sit in flight \n",
            "예측 요약 :  activist who killed fake news without consent\n",
            "\n",
            "\n",
            "원문 : mumbai police wednesday celebrated th birthday woman named subramaniam lives alone city police personnel including deputy commissioner police visited residence cake celebrate birthday mumbai police first celebrated birthday following celebrating birthday every year \n",
            "실제 요약 : mumbai police celebrates th day of woman who lives alone \n",
            "예측 요약 :  mumbai police to get christmas day\n",
            "\n",
            "\n",
            "원문 : actress sonali bendre wednesday revealed diagnosed cancer advised doctors currently undergoing course treatment new york determined fight every step way sonali wrote added taking battle head knowing strength family friends behind \n",
            "실제 요약 : sonali bendre reveals she has been diagnosed with cancer \n",
            "예측 요약 :  sonali bendre reveals cancer treatment sonali\n",
            "\n",
            "\n",
            "원문 : enforcement directorate questioned himachal pradesh cm virbhadra singh nine hours thursday disproportionate assets case minister asked give transactions made five bank accounts one accounts allegedly owned lic agent anand chauhan arrested last year \n",
            "실제 요약 : ed questions himachal cm for hours in da case \n",
            "예측 요약 :  himachal cm son calls out of fraud\n",
            "\n",
            "\n",
            "원문 : singh wednesday appointed full time director general jammu kashmir police per guidelines supreme court singh took interim chief state police force september predecessor name cleared state administrative council headed governor malik \n",
            "실제 요약 : singh appointed full time of police \n",
            "예측 요약 :  sc refuses to move to armed forces\n",
            "\n",
            "\n",
            "원문 : filmmaker actor tandon gave shah rukh khan first break tv serial dil passed away sunday aged unwell last months tandon known directing amrapali india entry oscars acting films like chennai express \n",
            "실제 요약 : director tandon for srk dies at \n",
            "예측 요약 :  srk srk passes away at\n",
            "\n",
            "\n",
            "원문 : bse chairman ravi booked case former aircel promoter companies allegedly defrauding idbi bank crore ravi independent director chairman audit committee idbi bank cbi named idbi bank officials worked senior levels loans sanctioned firms \n",
            "실제 요약 : bse chairman ravi named in cr idbi loan fraud case \n",
            "예측 요약 :  cbi files chargesheet against former infosys in md\n",
            "\n",
            "\n",
            "원문 : haryana health minister anil vij saturday said word removed national anthem translates dictator pointed india democracy dictatorship comes congress mp bora moved resolution parliament seeking replacement sindh northeast india anthem \n",
            "실제 요약 : remove from anthem it means dictator minister \n",
            "예측 요약 :  haryana govt asks to sing for national anthem\n",
            "\n",
            "\n",
            "원문 : eight time olympic champion usain bolt foot race two passengers board airbus zero plane like zero gravity bolt racing socks slipped times trying stay ground changing game celebrating life running drinking champagne zero gravity bolt wrote instagram \n",
            "실제 요약 : olympic champ bolt runs race in zero gravity wins it \n",
            "예측 요약 :  bolt takes dig at kmph after race race\n",
            "\n",
            "\n",
            "원문 : madras high court extended stay floor test tamil nadu assembly holding elections seats left vacant disqualification mlas supporting sidelined aiadmk leader ttv dhinakaran demand floor test cm palaniswami led government risen merger two rival aiadmk factions \n",
            "실제 요약 : high court extends stay on floor test in tn assembly \n",
            "예측 요약 :  hc dismisses mlas to attend rajya sabha polls\n",
            "\n",
            "\n",
            "원문 : referring anti government protests took place iran supreme leader ayatollah ali khamenei said seek overthrow islamic republic abroad failed fail future also praised iranian people timely appropriate reaction unrest \n",
            "실제 요약 : forces working against iran will fail supreme leader \n",
            "예측 요약 :  iran declares hafiz saeed as terrorist\n",
            "\n",
            "\n",
            "원문 : egypt ministry wednesday said archaeologists uncovered ancient tombs dating back second intermediate period bc nile delta burial sites dating back period also found kilometres north cairo tombs contain ancient animal remains stone artefacts fragments drawings ministry revealed \n",
            "실제 요약 : find ancient in delta egypt \n",
            "예측 요약 :  year old found in egypt\n",
            "\n",
            "\n",
            "원문 : actress soha ali khan said biopic co producing retired lawyer ram jethmalani fascinating story years old career years look people represented range politicians criminals added soha \n",
            "실제 요약 : it story soha on ram jethmalani biopic \n",
            "예측 요약 :  was not my career since was star in bollywood\n",
            "\n",
            "\n",
            "원문 : madhya pradesh high court monday directed centre state government refrain using word dalit official communication mention constitution suggested scheduled caste scheduled tribe used instead directive based petition claiming dalit derogatory hurt sentiments people \n",
            "실제 요약 : do not use dalit in official communication hc to govt \n",
            "예측 요약 :  up govt to use madrasas to file\n",
            "\n",
            "\n",
            "원문 : professional hamilton rescued dozen people left stranded hawaiian island swept hamilton used boats jet rescue tourists residents hawaiian island witnessed around inches rain hour period last weekend \n",
            "실제 요약 : pro rescues residents stranded by hawaii floods \n",
            "예측 요약 :  rescued after being rescued from sea\n",
            "\n",
            "\n",
            "원문 : state election commission wednesday used voter verifiable paper audit trail machines first time maharashtra municipal elections machines connected evms leave paper trails votes cast allowing voters verify votes gone intended candidates notably around machines developed technical snags elections \n",
            "실제 요약 : maharashtra uses paper trail machines for st time in polls \n",
            "예측 요약 :  ec releases election candidates for election candidates\n",
            "\n",
            "\n",
            "원문 : bound easyjet flight forced divert greece female passenger believed drunk created ruckus allegedly shouted want prostitute abused passengers crew members escorted plane greece along three fellow passengers flight continued towards destination \n",
            "실제 요약 : flight diverted after drunk woman abuses crew passengers \n",
            "예측 요약 :  flight crew crew crew crew holds flight airways flight\n",
            "\n",
            "\n",
            "원문 : india largest lender state bank india monday cut interest rates savings bank deposits percentage points effective july saving deposits balance crore sbi offer interest rate compared earlier balance crore rate retained per annum \n",
            "실제 요약 : cuts interest rate on saving deposits up to cr to \n",
            "예측 요약 :  sbi reduces interest rates for fy\n",
            "\n",
            "\n",
            "원문 : demonstrators venezuela preparing throw security forces shit march amid six week wave unrest country new tactic dubbed referring often seen protests whatsapp groups giving instructions create called madness \n",
            "실제 요약 : to throw poop at security forces \n",
            "예측 요약 :  french town leaves off after nose\n",
            "\n",
            "\n",
            "원문 : calling congress president rahul gandhi rahul baba bjp president amit shah today said rjd supremo lalu prasad appreciate fodder military operation nature shah seemingly referring fodder scams yadav convicted made statement gandhi earlier raised questions surgical strikes \n",
            "실제 요약 : rahul only fodder as he is lalu ally amit shah \n",
            "예측 요약 :  rahul gandhi is the last person amit shah\n",
            "\n",
            "\n",
            "원문 : us president donald trump said jacket worn wife melania really care written referred fake news media melania learned dishonest truly longer cares added melania wore jacket visiting migrant detention centre \n",
            "실제 요약 : melania do not care jacket refers to fake news trump \n",
            "예측 요약 :  trump defends wife over he is not\n",
            "\n",
            "\n",
            "원문 : year old girl allegedly abducted raped youth gone take water hand pump village muzaffarnagar said police youth also filmed act absconding booked protection children sexual offences act search nab \n",
            "실제 요약 : youth and rapes year old up girl films act \n",
            "예측 요약 :  girl raped by men in gujarat\n",
            "\n",
            "\n",
            "원문 : pakistan foreign minister khawaja asif claimed assisting us afghanistan mistake us intervention afghanistan led nothing good deteriorated security situation region added comes amid tensions us pakistan president donald trump accused pakistan harbouring terrorists \n",
            "실제 요약 : us in afghanistan was mistake pakistan \n",
            "예측 요약 :  us defence minister calls for defence minister\n",
            "\n",
            "\n",
            "원문 : us unveiled new embassy london believed world expensive embassy structure worth crore designed like cube without visible walls embassy pond recycled glass pub gym along solar panels roof \n",
            "실제 요약 : us builds world most expensive embassy worth crore \n",
            "예측 요약 :  us unveils crore plan to hurricane\n",
            "\n",
            "\n",
            "원문 : tech mahindra executives ranks executive vp senior vp reportedly offered take pay cuts following company weak performance around executives written ceo cp gurnani regard reportedly company earlier hinted top executives temporary pay cut would appreciated help cut costs \n",
            "실제 요약 : mahindra top executives offer to take up to pay cut \n",
            "예측 요약 :  swiggy hires senior cfo to quit as chairman\n",
            "\n",
            "\n",
            "원문 : managers luxury italian shoe firm accused racism lawsuit former employee claimed managers refused give tennis player serena williams celebrity discount company want african american women wear shoes shoe firm however rejected claims nn \n",
            "실제 요약 : luxury shoe firm accused of racism against serena williams \n",
            "예측 요약 :  aus player accused of girlfriend suit with girlfriend\n",
            "\n",
            "\n"
          ]
        }
      ],
      "source": [
        "for i in range(50, 100):\n",
        "    print(\"원문 :\", seq2text(encoder_input_test[i]))\n",
        "    print(\"실제 요약 :\", seq2summary(decoder_input_test[i]))\n",
        "    print(\"예측 요약 :\", decode_sequence(encoder_input_test[i].reshape(1, text_max_len)))\n",
        "    print(\"\\n\")"
      ]
    },
    {
      "cell_type": "markdown",
      "id": "0e8bd684",
      "metadata": {
        "id": "0e8bd684"
      },
      "source": [
        "몇몇 비슷하게 예측요약이 진행되었지만, 제대로 되고 있는 것 같지는 않다."
      ]
    },
    {
      "cell_type": "markdown",
      "id": "695f178c",
      "metadata": {
        "id": "695f178c"
      },
      "source": [
        "# 추출적 요약 진행"
      ]
    },
    {
      "cell_type": "markdown",
      "id": "18beaba7",
      "metadata": {
        "id": "18beaba7"
      },
      "source": [
        "### 패키지 다운"
      ]
    },
    {
      "cell_type": "code",
      "execution_count": null,
      "id": "25d4a61d",
      "metadata": {
        "id": "25d4a61d",
        "outputId": "5864c116-4612-4548-c242-770f9205c0c5"
      },
      "outputs": [
        {
          "name": "stdout",
          "output_type": "stream",
          "text": [
            "summa                         1.2.0\n",
            "Note: you may need to restart the kernel to use updated packages.\n"
          ]
        }
      ],
      "source": [
        "pip list | grep summa"
      ]
    },
    {
      "cell_type": "code",
      "execution_count": null,
      "id": "c64f7bc9",
      "metadata": {
        "id": "c64f7bc9"
      },
      "outputs": [],
      "source": [
        "from summa.summarizer import summarize"
      ]
    },
    {
      "cell_type": "markdown",
      "id": "785ae74b",
      "metadata": {
        "id": "785ae74b"
      },
      "source": [
        "추출적 요약 생성"
      ]
    },
    {
      "cell_type": "code",
      "execution_count": null,
      "id": "39183c74",
      "metadata": {
        "id": "39183c74",
        "outputId": "5c394160-fc4c-4254-8600-900d53ea69f3"
      },
      "outputs": [
        {
          "name": "stdout",
          "output_type": "stream",
          "text": [
            "원문 : saurav kant alumnus upgrad iiit pg program machine learning artificial intelligence sr systems engineer infosys almost years work experience program upgrad degree career support helped transition data scientist tech mahindra salary hike upgrad online power learning powered lakh careers\n",
            "실제요약 : upgrad learner switches to career in ml al with salary hike\n",
            "추출요약 : \n"
          ]
        }
      ],
      "source": [
        "from summa.summarizer import summarize\n",
        "print(\"원문 :\", data['text'][0])\n",
        "print(\"실제요약 :\", data['headlines'][0])\n",
        "print(\"추출요약 :\", summarize(data['text'][0], ratio=0.5))"
      ]
    },
    {
      "cell_type": "markdown",
      "id": "9aae6c86",
      "metadata": {
        "id": "9aae6c86"
      },
      "source": [
        "## 추출 요약이 나오지 않는 이유에서는 여러가지가 있다.\n",
        "### 너무 짧거나 단순한 구조를 가지고 있는 경우.\n",
        "### 텍스트의 내용이 너무 일관되거나 반복되는 경우\n",
        "### 그렇기에 전처리한 데이터가 아닌 원본 데이터로 다시 시도해보자"
      ]
    },
    {
      "cell_type": "code",
      "execution_count": null,
      "id": "f628f33f",
      "metadata": {
        "id": "f628f33f"
      },
      "outputs": [],
      "source": [
        "extractive_data = pd.read_csv('news_summary_more.csv', encoding='iso-8859-1')"
      ]
    },
    {
      "cell_type": "code",
      "execution_count": null,
      "id": "c362445d",
      "metadata": {
        "id": "c362445d",
        "outputId": "93f97359-d9ee-40bc-a3b0-cfa63dcca85d"
      },
      "outputs": [
        {
          "name": "stdout",
          "output_type": "stream",
          "text": [
            "원문 : saurav kant alumnus upgrad iiit pg program machine learning artificial intelligence sr systems engineer infosys almost years work experience program upgrad degree career support helped transition data scientist tech mahindra salary hike upgrad online power learning powered lakh careers\n",
            "실제요약 : upgrad learner switches to career in ml al with salary hike\n",
            "추출요약 : upGrad's Online Power Learning has powered 3 lakh+ careers.\n"
          ]
        }
      ],
      "source": [
        "from summa.summarizer import summarize\n",
        "print(\"원문 :\", data['text'][0])\n",
        "print(\"실제요약 :\", data['headlines'][0])\n",
        "print(\"추출요약 :\", summarize(extractive_data['text'][0], ratio=0.5))"
      ]
    },
    {
      "cell_type": "markdown",
      "id": "65e3dcce",
      "metadata": {
        "id": "65e3dcce"
      },
      "source": [
        "### 원본데이터로 진행하니 추출요약을 성공했다."
      ]
    },
    {
      "cell_type": "markdown",
      "id": "6331a914",
      "metadata": {
        "id": "6331a914"
      },
      "source": [
        "추출적 요약에서는 전처리한 데이터로는 요약하기 쉽지 않다는 걸 알아냈다."
      ]
    },
    {
      "cell_type": "markdown",
      "id": "e800a8fc",
      "metadata": {
        "id": "e800a8fc"
      },
      "source": [
        "# 회고"
      ]
    },
    {
      "cell_type": "markdown",
      "id": "809a6d6a",
      "metadata": {
        "id": "809a6d6a"
      },
      "source": [
        "- 천천히 노드를 따라가면서 진행을 하였지만, 중간 중간 막히는 부분이 있어 추가적인 공부가 필요한 것 같다.\n",
        "- 추상적 요약은 새로운 문장을 만들어서 인지 내용이 부족한 경우가 많았고, 추출적 요약은 내용을 잘 포함한 것 같았다.\n",
        "  - 추상적 요약과 추출적 요약을 잘 혼합하여 사용해야 될 것 같다.\n",
        "- 데이터 전처리 부분에서 노드에서 붙여넣기를 하다보니 대문자와 소문자가 섞여들어와 굉장히 고생했다. 대문자 소문자 구별을 잘 해보자.\n",
        "- 직접 만든 추상적 요약 모델의 성능이 별로 뛰어난 것 같지 않아 업그레이드가 필요하다."
      ]
    },
    {
      "cell_type": "markdown",
      "id": "02854aa3",
      "metadata": {
        "id": "02854aa3"
      },
      "source": [
        "### 느낀점"
      ]
    },
    {
      "cell_type": "markdown",
      "id": "2d2e85f0",
      "metadata": {
        "id": "2d2e85f0"
      },
      "source": [
        "이미지 처리만 진행하다 자연어 처리를 해보니 굉장히 낯설고 어려웠다. 노드가 있었음에도 많이 부족했고, 모델 성능 또한 좋은 편은 아니였다고 생각한다. 부족한 내용에 대한 공부가 필요하다."
      ]
    },
    {
      "cell_type": "code",
      "execution_count": null,
      "id": "7a0df825",
      "metadata": {
        "id": "7a0df825"
      },
      "outputs": [],
      "source": []
    }
  ],
  "metadata": {
    "kernelspec": {
      "display_name": "Python 3 (ipykernel)",
      "language": "python",
      "name": "python3"
    },
    "language_info": {
      "codemirror_mode": {
        "name": "ipython",
        "version": 3
      },
      "file_extension": ".py",
      "mimetype": "text/x-python",
      "name": "python",
      "nbconvert_exporter": "python",
      "pygments_lexer": "ipython3",
      "version": "3.9.7"
    },
    "colab": {
      "provenance": [],
      "include_colab_link": true
    }
  },
  "nbformat": 4,
  "nbformat_minor": 5
}