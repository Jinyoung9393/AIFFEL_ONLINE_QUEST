{
  "nbformat": 4,
  "nbformat_minor": 0,
  "metadata": {
    "colab": {
      "provenance": [],
      "include_colab_link": true
    },
    "kernelspec": {
      "name": "python3",
      "display_name": "Python 3"
    },
    "language_info": {
      "name": "python"
    }
  },
  "cells": [
    {
      "cell_type": "markdown",
      "metadata": {
        "id": "view-in-github",
        "colab_type": "text"
      },
      "source": [
        "<a href=\"https://colab.research.google.com/github/Jinyoung9393/AIFFEL_ONLINE_QUEST/blob/master/Main_Quest/Main_Quest01.ipynb\" target=\"_parent\"><img src=\"https://colab.research.google.com/assets/colab-badge.svg\" alt=\"Open In Colab\"/></a>"
      ]
    },
    {
      "cell_type": "code",
      "execution_count": 1,
      "metadata": {
        "id": "seiJp7uI1T3k",
        "colab": {
          "base_uri": "https://localhost:8080/"
        },
        "outputId": "7df422ee-cea7-43e5-b221-60220daa0a4c"
      },
      "outputs": [
        {
          "output_type": "stream",
          "name": "stdout",
          "text": [
            "[<__main__.Account object at 0x7f0e8cba0a30>, <__main__.Account object at 0x7f0e8cba09a0>, <__main__.Account object at 0x7f0e8cba09d0>]\n",
            "은행이름 : sc은행  예금주 : 이윤상  계좌번호 : 107-74-631884  잔고 : 100,000,000\n",
            "은행이름 : sc은행  예금주 : 전요한  계좌번호 : 747-20-775204  잔고 : 10,000,000\n",
            "입금 내역:\n",
            "500,000\n",
            "1,000,000\n",
            "출금 내역:\n",
            "300,000\n"
          ]
        }
      ],
      "source": [
        "import random\n",
        "class Account:\n",
        "    num_account = 0\n",
        "    def __init__(self,person_name,balance): # 속성값을 예금주 초기잔액\n",
        "        self.bank = 'sc은행'                 #은행이름\n",
        "        self.person_name=person_name        # 예금주 이름\n",
        "        self.balance=balance                # 잔액\n",
        "        self.deposit_count=0                # 입금 횟수\n",
        "        self.deposit_list = []              # 입금 내역\n",
        "        self.withdraw_list = []             # 출금 내역\n",
        "        acc1 = str(random.randint(0, 999)).rjust(3, '0')    #계좌번호 생성 첫번째 자리  .rjust 함수로 비어있을 수 있는 앞자리에 0 입력\n",
        "        acc2 = str(random.randint(0, 99)).rjust(2, '0')     #계좌번호 생성 두번째 자리  문자열.rjust(전체 자리 숫자, 공백이 있을 경우 공백을 채울 텍스트)\n",
        "        acc3 = str(random.randint(0, 999999)).rjust(6, '0') #계좌번호 생성 세번째자리\n",
        "        self.account_number = f\"{acc1}-{acc2}-{acc3}\"       #계좌번호 출력 방식\n",
        "        Account.num_account += 1                            #계좌 수 증가\n",
        "\n",
        "    def get_account_num(self):\n",
        "        print(Account.num_account)                          #생성된 계좌번호 개수 출력 메서드\n",
        "\n",
        "    def deposit(self, cash):                                 # 입금 매서드\n",
        "        if cash >= 1:                                        # 입금금액이 1원 이상일 때 조건문\n",
        "            self.balance += cash                             # 잔액에 입금금액 추가\n",
        "            self.deposit_count += 1                          # 입금 횟수 추가\n",
        "            self.deposit_list.append(cash)                   # 입금 내역 리스트에 입금금액 append\n",
        "            if self.deposit_count % 5 == 0:                  # 입금 횟수가 5번 때 마다\n",
        "                self.balance *= 1.01                         # 잔액에 이자 1프로 지급\n",
        "    def withdraw(self, cash):                                # 출금 매서드\n",
        "        if self.balance>=cash:                               # 잔액이 출금 금액보다 많을 때\n",
        "            self.balance-=cash                               # 잔액에서 출금 금액 빼기\n",
        "            self.withdraw_list.append(cash)                  # 출금 내역 리스트에 append\n",
        "\n",
        "    def display_info(self):                                  # 정보 출력 메서드\n",
        "        print('은행이름 :',self.bank,' 예금주 :',self.person_name,' 계좌번호 :',self.account_number,' 잔고 :',format(self.balance,',d')) # 잔고 출력 (참고)format 함수를 이용해서 3자리 수 마다 ',' 넣기\n",
        "\n",
        "    def deposit_history(self):                               # 입금 내역 메서드\n",
        "        print('입금 내역:')\n",
        "        for deposit in self.deposit_list:                    # 앞에서부터 차례대로 입금 내역을 출력한다\n",
        "            print(format(deposit, ',d'))\n",
        "    def withdraw_history(self):                              # 출금 내역 메서드\n",
        "        print('출금 내역:')\n",
        "        for withdraw in self.withdraw_list:                 # 앞에서부터 차례대로 출금 내역을 출력한다.\n",
        "            print(format(withdraw, ',d'))\n",
        "\n",
        "account1=Account('전요한',10000000)                          # 첫번째 인스턴스\n",
        "account2=Account('이윤상',100000000)                         # 두번째 인스턴스\n",
        "account3=Account('이진영',100000)                            # 세번째 인스턴스\n",
        "\n",
        "account_list=[account3,account2,account1]                   # 인스턴스를 list에 넣는다\n",
        "\n",
        "print(account_list)                                         # 인스턴스를 넣은 리스트 출력\n",
        "for i in account_list:                                      # for문으로 account_list 정보 탐색\n",
        "    if i.balance>=1000000:                                  # 조건문으로 잔액이 100만원 이상 정보 확인\n",
        "        i.display_info()                                    # display_info() 메서드로 고객정보 출력\n",
        "\n",
        "account1.deposit(500000)                                    # account1 50만원 입금\n",
        "account1.deposit(1000000)                                   # account1 100만원 입금\n",
        "account1.withdraw(300000)                                   # account1 30만원 출금\n",
        "\n",
        "account1.deposit_history()                                  # account1 입금내역 출력\n",
        "account1.withdraw_history()                                 # account1 출금내역 출력.\n",
        "\n",
        "#참고 https://aplab.tistory.com/entry/%ED%8C%8C%EC%9D%B4%EC%8D%AC-%EC%B2%9C%EB%8B%A8%EC%9C%84\n",
        "#참고 https://lovelydiary.tistory.com/294"
      ]
    },
    {
      "cell_type": "code",
      "source": [],
      "metadata": {
        "id": "NxS99fWDrlad"
      },
      "execution_count": null,
      "outputs": []
    }
  ]
}