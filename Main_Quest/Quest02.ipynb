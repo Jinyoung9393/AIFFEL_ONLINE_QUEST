{
  "nbformat": 4,
  "nbformat_minor": 0,
  "metadata": {
    "colab": {
      "provenance": [],
      "include_colab_link": true
    },
    "kernelspec": {
      "name": "python3",
      "display_name": "Python 3"
    },
    "language_info": {
      "name": "python"
    }
  },
  "cells": [
    {
      "cell_type": "markdown",
      "metadata": {
        "id": "view-in-github",
        "colab_type": "text"
      },
      "source": [
        "<a href=\"https://colab.research.google.com/github/Jinyoung9393/AIFFEL_ONLINE_QUEST/blob/master/Main_Quest/Quest02.ipynb\" target=\"_parent\"><img src=\"https://colab.research.google.com/assets/colab-badge.svg\" alt=\"Open In Colab\"/></a>"
      ]
    },
    {
      "cell_type": "code",
      "execution_count": null,
      "metadata": {
        "id": "seiJp7uI1T3k",
        "colab": {
          "base_uri": "https://localhost:8080/"
        },
        "outputId": "4044e0de-0461-445c-a12e-dfff6ca75490"
      },
      "outputs": [
        {
          "output_type": "stream",
          "name": "stdout",
          "text": [
            "[<__main__.Account object at 0x7f0e8cba1270>, <__main__.Account object at 0x7f0e8cba24a0>, <__main__.Account object at 0x7f0e8cba1420>]\n",
            "은행이름 : sc은행  예금주 : 이윤상  계좌번호 : 043-15-557753  잔고 : 100,000,000\n",
            "은행이름 : sc은행  예금주 : 전요한  계좌번호 : 493-10-868919  잔고 : 10,000,000\n",
            "입금 내역:\n",
            "500,000\n",
            "1,000,000\n",
            "출금 내역:\n",
            "300,000\n"
          ]
        }
      ],
      "source": [
        "import random\n",
        "import csv\n",
        "core_student = {'김건': 0, '김경민': 0, '김소연': 0, '김영신': 0, '박근수': 0, '박영수': 0, '박영준': 0, '서원영': 0, '신지만': 0,\n",
        "                '심지안': 0, '이규상': 0, '이윤상': 0, '이진영': 0, '임현석': 0, '전요한': 0, '전재영': 0, '조대희': 0}\n",
        "\n",
        "class Aiffel:\n",
        "    student_count=0\n",
        "    core_student=core_student\n",
        "    def __init__(self, name,years,batch,course ):\n",
        "        self.name=name\n",
        "        self.years=years\n",
        "        self.batch=batch\n",
        "        self.course=course\n",
        "\n",
        "    def student_number(self):\n",
        "        for i in self.core_student:\n",
        "            self.core_student[i] = len(self.core_student) + 1\n",
        "        student_ID=232602,len(self.core_student) + 1\n",
        "        return student_ID"
      ]
    },
    {
      "cell_type": "code",
      "source": [],
      "metadata": {
        "id": "NxS99fWDrlad"
      },
      "execution_count": null,
      "outputs": []
    }
  ]
}