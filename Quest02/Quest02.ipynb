{
  "nbformat": 4,
  "nbformat_minor": 0,
  "metadata": {
    "colab": {
      "provenance": [],
      "include_colab_link": true
    },
    "kernelspec": {
      "name": "python3",
      "display_name": "Python 3"
    },
    "language_info": {
      "name": "python"
    }
  },
  "cells": [
    {
      "cell_type": "markdown",
      "metadata": {
        "id": "view-in-github",
        "colab_type": "text"
      },
      "source": [
        "<a href=\"https://colab.research.google.com/github/Jinyoung9393/AIFFEL_ONLINE_QUEST/blob/master/Quest02/Quest02.ipynb\" target=\"_parent\"><img src=\"https://colab.research.google.com/assets/colab-badge.svg\" alt=\"Open In Colab\"/></a>"
      ]
    },
    {
      "cell_type": "code",
      "execution_count": null,
      "metadata": {
        "id": "8YeWK4CwvCMu",
        "colab": {
          "base_uri": "https://localhost:8080/"
        },
        "outputId": "28c6bc11-919e-4531-9b59-a4151bad36ab"
      },
      "outputs": [
        {
          "output_type": "stream",
          "name": "stdout",
          "text": [
            "Requirement already satisfied: ColabTurtle in /usr/local/lib/python3.10/dist-packages (2.1.0)\n",
            "미로를 찾았습니다.\n",
            "[[2, 0, 2, 2, 2],\n",
            " [2, 1, 2, 1, 2],\n",
            " [2, 2, 2, 1, 2],\n",
            " [1, 2, 2, 0, 2],\n",
            " [0, 2, 2, 0, 2]]\n"
          ]
        }
      ],
      "source": [
        "!pip3 install ColabTurtle  # ColabTurtle 모듈 설치\n",
        "\n",
        "import ColabTurtle.Turtle as t  # ColabTurtle 모듈에서 Turtle 클래스를 t로 import\n",
        "import pprint  # pprint 모듈 import\n",
        "\n",
        "maze = [  # 미로(maze)를 2차원 리스트로 정의\n",
        "    [0, 0, 0, 0, 0],\n",
        "    [0, 1, 0, 1, 0],\n",
        "    [0, 0, 0, 1, 0],\n",
        "    [1, 0, 0, 0, 0],\n",
        "    [0, 0, 0, 0, 0]\n",
        "]\n",
        "\n",
        "def goto(x, y):  # goto 함수 정의\n",
        "    t.goto(x, y)  # Turtle 클래스의 goto 메소드를 사용하여 거북이를 주어진 좌표 (x, y)로 이동\n",
        "\n",
        "def solve_maze(x, y):  # solve_maze 함수 정의\n",
        "    if x < 0 or y < 0 or x >= len(maze) or y >= len(maze[0]):\n",
        "        return False  # 미로 범위를 벗어나면 False 반환\n",
        "    elif maze[x][y] == 1 or maze[x][y] == 2:\n",
        "        return False  # 벽이거나 이미 지나간 경로일 경우 False 반환\n",
        "    elif x == 4 and y == 4:\n",
        "        maze[x][y] = 2  # 도착지점에 도달했을 경우 해당 좌표를 2로 설정하고 True 반환\n",
        "        return True\n",
        "\n",
        "    maze[x][y] = 2  # 현재 좌표를 지나간 경로로 표시\n",
        "\n",
        "    if solve_maze(x+1, y) or solve_maze(x-1, y) or solve_maze(x, y+1) or solve_maze(x, y-1):\n",
        "        return True  # 인접한 좌표들을 재귀적으로 탐색하여 도착지점에 도달 가능한 경로가 있을 경우 True 반환\n",
        "\n",
        "    maze[x][y] = 0  # 해당 좌표에서 갈 수 있는 경로가 없을 경우 다시 0으로 설정하고 False 반환\n",
        "    return False\n",
        "\n",
        "start_x, start_y = 0, 0  # 출발지점 좌표 설정\n",
        "\n",
        "if solve_maze(start_x, start_y):  # 출발지점에서 미로를 해결할 수 있는지 확인\n",
        "    print(\"미로를 찾았습니다.\")\n",
        "else:\n",
        "    print(\"미로를 찾을 수 없습니다.\")\n",
        "\n",
        "pprint.pprint(maze)  # pprint 모듈을 사용하여 미로(maze) 출력\n",
        "\n"
      ]
    },
    {
      "cell_type": "code",
      "source": [],
      "metadata": {
        "id": "l8ndPkksy7ag"
      },
      "execution_count": null,
      "outputs": []
    }
  ]
}