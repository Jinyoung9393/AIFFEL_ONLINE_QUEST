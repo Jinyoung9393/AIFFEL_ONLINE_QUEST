{
  "nbformat": 4,
  "nbformat_minor": 0,
  "metadata": {
    "colab": {
      "provenance": [],
      "mount_file_id": "1lVmh6ChHY9COiG2u1cfeeyv2I6mmTH33",
      "authorship_tag": "ABX9TyNbKox+wjuSVxaB6iihqbon",
      "include_colab_link": true
    },
    "kernelspec": {
      "name": "python3",
      "display_name": "Python 3"
    },
    "language_info": {
      "name": "python"
    }
  },
  "cells": [
    {
      "cell_type": "markdown",
      "metadata": {
        "id": "view-in-github",
        "colab_type": "text"
      },
      "source": [
        "<a href=\"https://colab.research.google.com/github/Jinyoung9393/AIFFEL_ONLINE_QUEST/blob/master/mainquest03.ipynb\" target=\"_parent\"><img src=\"https://colab.research.google.com/assets/colab-badge.svg\" alt=\"Open In Colab\"/></a>"
      ]
    },
    {
      "cell_type": "markdown",
      "source": [
        "**데이터 불러오기 + Resize 하기**"
      ],
      "metadata": {
        "id": "FG13rA4BEJFo"
      }
    },
    {
      "cell_type": "code",
      "execution_count": 8,
      "metadata": {
        "colab": {
          "base_uri": "https://localhost:8080/"
        },
        "id": "9RQlQy5JsynP",
        "outputId": "d6e91523-1168-4922-e175-a9286468f7ec"
      },
      "outputs": [
        {
          "output_type": "stream",
          "name": "stdout",
          "text": [
            "100  images to be resized.\n"
          ]
        },
        {
          "output_type": "stream",
          "name": "stderr",
          "text": [
            "<ipython-input-8-3a91c36ff74c>:16: DeprecationWarning: ANTIALIAS is deprecated and will be removed in Pillow 10 (2023-07-01). Use LANCZOS or Resampling.LANCZOS instead.\n",
            "  new_img = old_img.resize(target_size, Image.ANTIALIAS)\n"
          ]
        },
        {
          "output_type": "stream",
          "name": "stdout",
          "text": [
            "100  images resized.\n",
            "100  images to be resized.\n",
            "100  images resized.\n",
            "100  images to be resized.\n",
            "100  images resized.\n"
          ]
        }
      ],
      "source": [
        "import tensorflow as tf\n",
        "import numpy as np\n",
        "from PIL import Image\n",
        "import glob\n",
        "import os\n",
        "\n",
        "def resize_images(img_path):\n",
        "    images = glob.glob(img_path + \"/*.jpg\")\n",
        "\n",
        "    print(len(images), \" images to be resized.\")\n",
        "\n",
        "    # 이미지 크기를 28x28로 변경하여 저장합니다.\n",
        "    target_size = (28, 28)\n",
        "    for img in images:\n",
        "        old_img = Image.open(img)\n",
        "        new_img = old_img.resize(target_size, Image.ANTIALIAS)\n",
        "        new_img.save(img, \"JPEG\")\n",
        "\n",
        "    print(len(images), \" images resized.\")\n",
        "## 가위, 바위, 보 이미지들이 있는 디렉토리 경로를 설정합니다.\n",
        "image_dir_path = \"/content/drive/MyDrive/rock scissor paper/train/scissor/\"\n",
        "resize_images(image_dir_path)\n",
        "image_dir_path = \"/content/drive/MyDrive/rock scissor paper/train/rock/\"\n",
        "resize_images(image_dir_path)\n",
        "image_dir_path = \"/content/drive/MyDrive/rock scissor paper/train/paper/\"\n",
        "resize_images(image_dir_path)\n"
      ]
    },
    {
      "cell_type": "code",
      "source": [
        "def load_data(img_path, number_of_data=300):\n",
        "    # 이미지 크기와 컬러 채널 설정\n",
        "    img_size=28\n",
        "    color=3\n",
        "    # 이미지 데이터와 라벨을 담을 배열 초기화\n",
        "    imgs=np.zeros(number_of_data*img_size*img_size*color,dtype=np.int32).reshape(number_of_data,img_size,img_size,color)\n",
        "    labels=np.zeros(number_of_data,dtype=np.int32)\n",
        "\n",
        "    idx=0\n",
        "    # \"scissor\" 폴더에 있는 이미지들을 불러와 데이터와 라벨을 할당\n",
        "    for file in glob.iglob(img_path+'/scissor/*.jpg'):\n",
        "        img = np.array(Image.open(file),dtype=np.int32)\n",
        "        imgs[idx,:,:,:]=img\n",
        "        labels[idx]=0\n",
        "        idx=idx+1\n",
        "    # \"rock\" 폴더에 있는 이미지들을 불러와 데이터와 라벨을 할당\n",
        "    for file in glob.iglob(img_path+'/rock/*.jpg'):\n",
        "        img = np.array(Image.open(file),dtype=np.int32)\n",
        "        imgs[idx,:,:,:]=img\n",
        "        labels[idx]=1\n",
        "        idx=idx+1\n",
        "    # \"paper\" 폴더에 있는 이미지들을 불러와 데이터와 라벨을 할당\n",
        "    for file in glob.iglob(img_path+'/paper/*.jpg'):\n",
        "        img = np.array(Image.open(file),dtype=np.int32)\n",
        "        imgs[idx,:,:,:]=img\n",
        "        labels[idx]=2\n",
        "        idx=idx+1\n",
        "\n",
        "\n",
        "    return imgs, labels\n",
        "# 데이터가 있는 디렉토리 경로를 설정하고 load_data 함수를 사용하여 학습에 사용될 데이터 준비\n",
        "image_dir_path =\"/content/drive/MyDrive/rock scissor paper/train\"\n",
        "(x_train, y_train)=load_data(image_dir_path)\n",
        "# 이미지 데이터를 0과 1 사이의 값으로 정규화\n",
        "x_train_norm = x_train/255.0\n",
        "# 데이터의 형태 출력\n",
        "print(\"x_train shape: {}\".format(x_train.shape))\n",
        "print(\"y_train shape: {}\".format(y_train.shape))"
      ],
      "metadata": {
        "colab": {
          "base_uri": "https://localhost:8080/"
        },
        "id": "ethawvU_s1T_",
        "outputId": "924dabf9-2baa-4feb-ccb7-aa776db21861"
      },
      "execution_count": 18,
      "outputs": [
        {
          "output_type": "stream",
          "name": "stdout",
          "text": [
            "x_train shape: (300, 28, 28, 3)\n",
            "y_train shape: (300,)\n"
          ]
        }
      ]
    },
    {
      "cell_type": "code",
      "source": [
        "import matplotlib.pyplot as plt\n",
        "plt.imshow(x_train[0])\n",
        "print('라벨: ', y_train[0])"
      ],
      "metadata": {
        "colab": {
          "base_uri": "https://localhost:8080/",
          "height": 448
        },
        "id": "buPKuaSgD1AT",
        "outputId": "d5e00100-57ba-4d2c-a0ba-e8addf7a164a"
      },
      "execution_count": 10,
      "outputs": [
        {
          "output_type": "stream",
          "name": "stdout",
          "text": [
            "라벨:  0\n"
          ]
        },
        {
          "output_type": "display_data",
          "data": {
            "text/plain": [
              "<Figure size 640x480 with 1 Axes>"
            ],
            "image/png": "[encoded data removed]"
          },
          "metadata": {}
        }
      ]
    },
    {
      "cell_type": "markdown",
      "source": [
        "**딥러닝 네트워크 설계하기**"
      ],
      "metadata": {
        "id": "7-e_JEiwLFRi"
      }
    },
    {
      "cell_type": "code",
      "source": [
        "import tensorflow as tf\n",
        "from tensorflow import keras\n",
        "import numpy as np\n",
        "import matplotlib.pyplot as plt\n",
        "# Sequential 모델 생성\n",
        "model=keras.models.Sequential()\n",
        "\n",
        "# 첫 번째 Convolutional 레이어 추가\n",
        "model.add(keras.layers.Conv2D(16, (3,3), activation='relu', input_shape=(28,28,3)))\n",
        "\n",
        "# 첫 번째 MaxPooling 레이어 추가\n",
        "model.add(keras.layers.MaxPool2D(2,2))\n",
        "\n",
        "# 두 번째 Convolutional 레이어 추가\n",
        "model.add(keras.layers.Conv2D(32, (3,3), activation='relu'))\n",
        "\n",
        "# 두 번째 MaxPooling 레이어 추가\n",
        "model.add(keras.layers.MaxPooling2D((2,2)))\n",
        "\n",
        "# 평탄화 (Flatten) 레이어 추가\n",
        "model.add(keras.layers.Flatten())\n",
        "\n",
        "# Fully Connected 레이어 추가\n",
        "model.add(keras.layers.Dense(32, activation='relu'))\n",
        "\n",
        "# 출력 레이어 추가 (3개의 클래스로 분류하므로 노드 개수는 3, softmax 활성화 함수 사용)\n",
        "model.add(keras.layers.Dense(3, activation='softmax'))\n",
        "\n",
        "# Model에 추가된 Layer 개수 출력\n",
        "print('Model에 추가된 Layer 개수: ', len(model.layers))\n",
        "\n",
        "# Model의 구조를 요약하여 출력\n",
        "model.summary()"
      ],
      "metadata": {
        "colab": {
          "base_uri": "https://localhost:8080/"
        },
        "id": "CRn7GsBoD6sC",
        "outputId": "a11e7b21-207c-4da4-d851-2b9a07612e49"
      },
      "execution_count": 11,
      "outputs": [
        {
          "output_type": "stream",
          "name": "stdout",
          "text": [
            "Model에 추가된 Layer 개수:  7\n",
            "Model: \"sequential\"\n",
            "_________________________________________________________________\n",
            " Layer (type)                Output Shape              Param #   \n",
            "=================================================================\n",
            " conv2d (Conv2D)             (None, 26, 26, 16)        448       \n",
            "                                                                 \n",
            " max_pooling2d (MaxPooling2D  (None, 13, 13, 16)       0         \n",
            " )                                                               \n",
            "                                                                 \n",
            " conv2d_1 (Conv2D)           (None, 11, 11, 32)        4640      \n",
            "                                                                 \n",
            " max_pooling2d_1 (MaxPooling  (None, 5, 5, 32)         0         \n",
            " 2D)                                                             \n",
            "                                                                 \n",
            " flatten (Flatten)           (None, 800)               0         \n",
            "                                                                 \n",
            " dense (Dense)               (None, 32)                25632     \n",
            "                                                                 \n",
            " dense_1 (Dense)             (None, 3)                 99        \n",
            "                                                                 \n",
            "=================================================================\n",
            "Total params: 30,819\n",
            "Trainable params: 30,819\n",
            "Non-trainable params: 0\n",
            "_________________________________________________________________\n"
          ]
        }
      ]
    },
    {
      "cell_type": "markdown",
      "source": [
        "### 딥러닝 네트워크 학습시키기"
      ],
      "metadata": {
        "id": "bMfgI3K3LOF2"
      }
    },
    {
      "cell_type": "code",
      "source": [],
      "metadata": {
        "id": "U02BpAq0LlpN"
      },
      "execution_count": null,
      "outputs": []
    },
    {
      "cell_type": "code",
      "source": [
        "# 모델 컴파일\n",
        "model.compile(optimizer='adam',\n",
        "             loss='sparse_categorical_crossentropy',\n",
        "             metrics=['accuracy'])\n",
        "#에폭 12로 설정\n",
        "model.fit(x_train, y_train, epochs=12)"
      ],
      "metadata": {
        "colab": {
          "base_uri": "https://localhost:8080/"
        },
        "id": "gBhD6C11E7Qr",
        "outputId": "f357bec5-100c-470d-aa94-83df5728002c"
      },
      "execution_count": 14,
      "outputs": [
        {
          "output_type": "stream",
          "name": "stdout",
          "text": [
            "Epoch 1/12\n",
            "10/10 [==============================] - 1s 17ms/step - loss: 0.3791 - accuracy: 0.8900\n",
            "Epoch 2/12\n",
            "10/10 [==============================] - 0s 18ms/step - loss: 0.0744 - accuracy: 0.9733\n",
            "Epoch 3/12\n",
            "10/10 [==============================] - 0s 17ms/step - loss: 0.0601 - accuracy: 0.9800\n",
            "Epoch 4/12\n",
            "10/10 [==============================] - 0s 19ms/step - loss: 0.0194 - accuracy: 1.0000\n",
            "Epoch 5/12\n",
            "10/10 [==============================] - 0s 17ms/step - loss: 0.0083 - accuracy: 1.0000\n",
            "Epoch 6/12\n",
            "10/10 [==============================] - 0s 18ms/step - loss: 0.0039 - accuracy: 1.0000\n",
            "Epoch 7/12\n",
            "10/10 [==============================] - 0s 18ms/step - loss: 0.0015 - accuracy: 1.0000\n",
            "Epoch 8/12\n",
            "10/10 [==============================] - 0s 18ms/step - loss: 0.0010 - accuracy: 1.0000\n",
            "Epoch 9/12\n",
            "10/10 [==============================] - 0s 17ms/step - loss: 9.1677e-04 - accuracy: 1.0000\n",
            "Epoch 10/12\n",
            "10/10 [==============================] - 0s 18ms/step - loss: 7.9954e-04 - accuracy: 1.0000\n",
            "Epoch 11/12\n",
            "10/10 [==============================] - 0s 17ms/step - loss: 6.7018e-04 - accuracy: 1.0000\n",
            "Epoch 12/12\n",
            "10/10 [==============================] - 0s 18ms/step - loss: 5.7711e-04 - accuracy: 1.0000\n"
          ]
        },
        {
          "output_type": "execute_result",
          "data": {
            "text/plain": [
              "<keras.callbacks.History at 0x7b72fd4aa410>"
            ]
          },
          "metadata": {},
          "execution_count": 14
        }
      ]
    },
    {
      "cell_type": "code",
      "source": [
        "# 테스트용 디렉토리에 있는 \"paper\" 폴더의 이미지들을 resize\n",
        "image_dir_path_test = \"/content/drive/MyDrive/rock scissor paper/test/paper\"\n",
        "resize_images(image_dir_path_test)\n",
        "\n",
        "# 테스트용 디렉토리에 있는 \"rock\" 폴더의 이미지들을 resize\n",
        "image_dir_path_test = \"/content/drive/MyDrive/rock scissor paper/test/rock\"\n",
        "resize_images(image_dir_path_test)\n",
        "\n",
        "# 테스트용 디렉토리에 있는 \"scissor\" 폴더의 이미지들을 resize\n",
        "image_dir_path_test = \"/content/drive/MyDrive/rock scissor paper/test/scissor\"\n",
        "resize_images(image_dir_path_test)"
      ],
      "metadata": {
        "colab": {
          "base_uri": "https://localhost:8080/"
        },
        "id": "POziay3BFIaK",
        "outputId": "2e45d39f-5726-4669-e0a6-d6525970cf95"
      },
      "execution_count": 15,
      "outputs": [
        {
          "output_type": "stream",
          "name": "stdout",
          "text": [
            "100  images to be resized.\n"
          ]
        },
        {
          "output_type": "stream",
          "name": "stderr",
          "text": [
            "<ipython-input-8-3a91c36ff74c>:16: DeprecationWarning: ANTIALIAS is deprecated and will be removed in Pillow 10 (2023-07-01). Use LANCZOS or Resampling.LANCZOS instead.\n",
            "  new_img = old_img.resize(target_size, Image.ANTIALIAS)\n"
          ]
        },
        {
          "output_type": "stream",
          "name": "stdout",
          "text": [
            "100  images resized.\n",
            "100  images to be resized.\n",
            "100  images resized.\n",
            "100  images to be resized.\n",
            "100  images resized.\n"
          ]
        }
      ]
    },
    {
      "cell_type": "code",
      "source": [
        "# 테스트용 이미지들이 있는 디렉토리 경로\n",
        "image_dir_path_test =\"/content/drive/MyDrive/rock scissor paper/test\"\n",
        "# 로드한 이미지 데이터와 라벨 데이터를 각각 x_test와 y_test에 할당\n",
        "(x_test, y_test)=load_data(image_dir_path_test)\n",
        "# 255로 나누어 이미지 데이터를 0~1 사이로 스케일링하여 정규화함\n",
        "x_test_norm = x_test/255.0"
      ],
      "metadata": {
        "id": "9OBg6_5qFgny"
      },
      "execution_count": 21,
      "outputs": []
    },
    {
      "cell_type": "code",
      "source": [
        "# x_test의 형태를 출력함\n",
        "print(\"x_test shape: {}\".format(x_test.shape))\n",
        "# y_test의 형태를 출력함\n",
        "print(\"y_test shape: {}\".format(y_test.shape))"
      ],
      "metadata": {
        "colab": {
          "base_uri": "https://localhost:8080/"
        },
        "id": "HINahpJYFvQ5",
        "outputId": "2a98d190-feb2-4a1a-9293-687b3d26c30b"
      },
      "execution_count": 20,
      "outputs": [
        {
          "output_type": "stream",
          "name": "stdout",
          "text": [
            "x_test shape: (300, 28, 28, 3)\n",
            "y_test shape: (300,)\n"
          ]
        }
      ]
    },
    {
      "cell_type": "markdown",
      "source": [
        "### **테스트**"
      ],
      "metadata": {
        "id": "SDR8mAMuLUd4"
      }
    },
    {
      "cell_type": "code",
      "source": [
        "# 모델을 테스트 데이터로 평가하여 테스트 손실(test_loss)과 테스트 정확도(test_accuracy)를 얻음\n",
        "# x_test: 테스트용 이미지 데이터\n",
        "# y_test: 테스트용 이미지에 대한 라벨 데이터\n",
        "# verbose=2: 평가 과정의 진행 상태를 출력하지 않도록 설정\n",
        "test_loss, test_accuracy = model.evaluate(x_test,y_test, verbose=2)\n",
        "\n",
        "# 모델을 사용하여 테스트 데이터에 대한 예측 결과를 얻음.\n",
        "# x_test: 테스트용 이미지 데이터를 입력으로 모델에 넣고 예측 결과를 얻음\n",
        "predicted_result = model.predict(x_test)\n",
        "\n",
        "# 모델의 예측 결과에서 가장 높은 확률을 가진 클래스의 인덱스를 얻음.\n",
        "# predicted_result: 모델의 예측 결과 (각 클래스에 대한 확률값으로 구성된 배열)\n",
        "# np.argmax: 배열에서 가장 큰 값의 인덱스를 반환하는 함수를 사용하여 예측된 라벨 값을 얻음\n",
        "predicted_labels = np.argmax(predicted_result, axis=1)"
      ],
      "metadata": {
        "colab": {
          "base_uri": "https://localhost:8080/"
        },
        "id": "sMiY2za1Gcck",
        "outputId": "1673dc2b-1fac-42f9-bf5c-bb7829f2fcfc"
      },
      "execution_count": 22,
      "outputs": [
        {
          "output_type": "stream",
          "name": "stdout",
          "text": [
            "10/10 - 0s - loss: 4.3957 - accuracy: 0.4500 - 359ms/epoch - 36ms/step\n",
            "10/10 [==============================] - 0s 10ms/step\n"
          ]
        }
      ]
    },
    {
      "cell_type": "code",
      "source": [],
      "metadata": {
        "id": "CYYlsLQ2GmEC"
      },
      "execution_count": null,
      "outputs": []
    }
  ]
}