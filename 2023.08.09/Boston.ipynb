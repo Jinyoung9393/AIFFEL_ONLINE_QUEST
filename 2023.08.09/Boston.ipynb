{
  "nbformat": 4,
  "nbformat_minor": 0,
  "metadata": {
    "colab": {
      "provenance": [],
      "authorship_tag": "ABX9TyPcevWYBBOEg3t2wlJomBe8",
      "include_colab_link": true
    },
    "kernelspec": {
      "name": "python3",
      "display_name": "Python 3"
    },
    "language_info": {
      "name": "python"
    }
  },
  "cells": [
    {
      "cell_type": "markdown",
      "metadata": {
        "id": "view-in-github",
        "colab_type": "text"
      },
      "source": [
        "<a href=\"https://colab.research.google.com/github/Jinyoung9393/AIFFEL_ONLINE_QUEST/blob/master/2023.08.09/Boston.ipynb\" target=\"_parent\"><img src=\"https://colab.research.google.com/assets/colab-badge.svg\" alt=\"Open In Colab\"/></a>"
      ]
    },
    {
      "cell_type": "code",
      "execution_count": 1,
      "metadata": {
        "id": "eWkb3XtuWl0S"
      },
      "outputs": [],
      "source": [
        "from tensorflow.keras import models, layers\n",
        "import matplotlib.pyplot as plt"
      ]
    },
    {
      "cell_type": "code",
      "source": [
        "# keras.datasets 안에 boston_housing 데이터셋을 로드합니다.\n",
        "from keras.datasets import boston_housing\n",
        "\n",
        "(train_data, train_labels), (test_data, test_labels) = boston_housing.load_data()\n",
        "\n",
        "# 데이터셋의 크기를 확인합니다.\n",
        "print(len(train_data))\n",
        "print(len(test_data))\n",
        "print(len(train_labels))\n",
        "print(len(test_labels))"
      ],
      "metadata": {
        "colab": {
          "base_uri": "https://localhost:8080/"
        },
        "id": "W_YSNo83WmyU",
        "outputId": "047d9ca9-fcaf-46d4-f967-432c074d8fb1"
      },
      "execution_count": 2,
      "outputs": [
        {
          "output_type": "stream",
          "name": "stdout",
          "text": [
            "Downloading data from https://storage.googleapis.com/tensorflow/tf-keras-datasets/boston_housing.npz\n",
            "57026/57026 [==============================] - 0s 0us/step\n",
            "404\n",
            "102\n",
            "404\n",
            "102\n"
          ]
        }
      ]
    },
    {
      "cell_type": "code",
      "source": [
        "# 문제 1-1: 데이터셋의 전처리를 위해 표준화 작업을 수행합니다.\n",
        "# 먼저 입력 데이터의 각 특성의 평균을 뺍니다.\n",
        "mean=train_data.mean(axis=0)\n",
        "train_data=train_data-mean\n",
        "# 평균을 뺀 입력 데이터에서 표준편차를 나눕니다.\n",
        "# 데이터 특성의 중앙이 0에 가깝게 만들고, 표준편차가 1이 되게 만듭니다.\n",
        "std=train_data.std(axis=0)\n",
        "train_data=test_data/std\n",
        "\n",
        "# 테스트 데이터셋도 마찬가지로 평균을 빼고, 표준편차로 나눕니다.\n",
        "test_data=test_data-mean\n",
        "test_data=test_data/std"
      ],
      "metadata": {
        "id": "b3gTzyM7WseD"
      },
      "execution_count": 3,
      "outputs": []
    },
    {
      "cell_type": "code",
      "source": [
        "# 문제 1-2: 주택 가격 예측을 위한 딥러닝 모델 구성 및 컴파일합니다.\n",
        "# input_shape은 (train_data.shape[1], )으로 구성합니다.\n",
        "# 회귀(예측)을 위한 모델이므로 loss를 mse, metrics를 mae로 사용합니다.\n",
        "import tensorflow\n",
        "from keras.models import Sequential\n",
        "from keras.layers import Dense\n",
        "from tensorflow.keras.optimizers import Adam\n",
        "\n",
        "# Create a Sequential model\n",
        "model = models.Sequential()\n",
        "model.add(layers.Dense(128, input_shape=(train_data.shape[1], ), activation='relu'))\n",
        "model.add(layers.Dense(64, activation='relu'))\n",
        "model.add(layers.Dense(1, activation='linear'))\n",
        "\n",
        "model.compile(optimizer='adam', loss='mse', metrics=['mae'])\n",
        "\n",
        "# Print the model summary\n",
        "model.summary()"
      ],
      "metadata": {
        "colab": {
          "base_uri": "https://localhost:8080/"
        },
        "id": "cdfAnyDiW3WT",
        "outputId": "5bbbe53f-bf6a-4b21-8239-6cb1a9eb4fe9"
      },
      "execution_count": 4,
      "outputs": [
        {
          "output_type": "stream",
          "name": "stdout",
          "text": [
            "Model: \"sequential\"\n",
            "_________________________________________________________________\n",
            " Layer (type)                Output Shape              Param #   \n",
            "=================================================================\n",
            " dense (Dense)               (None, 128)               1792      \n",
            "                                                                 \n",
            " dense_1 (Dense)             (None, 64)                8256      \n",
            "                                                                 \n",
            " dense_2 (Dense)             (None, 1)                 65        \n",
            "                                                                 \n",
            "=================================================================\n",
            "Total params: 10,113\n",
            "Trainable params: 10,113\n",
            "Non-trainable params: 0\n",
            "_________________________________________________________________\n"
          ]
        }
      ]
    },
    {
      "cell_type": "code",
      "source": [
        "history = model.fit(train_data, train_labels, epochs=100, batch_size=16, validation_split=0.2)"
      ],
      "metadata": {
        "colab": {
          "base_uri": "https://localhost:8080/"
        },
        "id": "Mu__yn0QW6VT",
        "outputId": "1f7092fa-3996-44f1-861a-045522fdc726"
      },
      "execution_count": 6,
      "outputs": [
        {
          "output_type": "stream",
          "name": "stdout",
          "text": [
            "Epoch 1/100\n",
            "6/6 [==============================] - 2s 121ms/step - loss: 463.5704 - mae: 19.7013 - val_loss: 859.1519 - val_mae: 26.8520\n",
            "Epoch 2/100\n",
            "6/6 [==============================] - 0s 34ms/step - loss: 339.5312 - mae: 16.3700 - val_loss: 680.8355 - val_mae: 23.2997\n",
            "Epoch 3/100\n",
            "6/6 [==============================] - 0s 17ms/step - loss: 237.9054 - mae: 12.8656 - val_loss: 523.6734 - val_mae: 19.5828\n",
            "Epoch 4/100\n",
            "6/6 [==============================] - 0s 15ms/step - loss: 155.3647 - mae: 9.4194 - val_loss: 385.5460 - val_mae: 15.9041\n",
            "Epoch 5/100\n",
            "6/6 [==============================] - 0s 14ms/step - loss: 100.8128 - mae: 6.7944 - val_loss: 280.7922 - val_mae: 13.0966\n",
            "Epoch 6/100\n",
            "6/6 [==============================] - 0s 11ms/step - loss: 77.3329 - mae: 6.1788 - val_loss: 224.4843 - val_mae: 11.5140\n",
            "Epoch 7/100\n",
            "6/6 [==============================] - 0s 13ms/step - loss: 73.3750 - mae: 6.4422 - val_loss: 212.9034 - val_mae: 11.2187\n",
            "Epoch 8/100\n",
            "6/6 [==============================] - 0s 11ms/step - loss: 73.8897 - mae: 6.5265 - val_loss: 222.6952 - val_mae: 11.4529\n",
            "Epoch 9/100\n",
            "6/6 [==============================] - 0s 13ms/step - loss: 72.1275 - mae: 6.2149 - val_loss: 240.0426 - val_mae: 11.9390\n",
            "Epoch 10/100\n",
            "6/6 [==============================] - 0s 13ms/step - loss: 72.6287 - mae: 6.0650 - val_loss: 252.0446 - val_mae: 12.3097\n",
            "Epoch 11/100\n",
            "6/6 [==============================] - 0s 12ms/step - loss: 73.4295 - mae: 6.0240 - val_loss: 254.7736 - val_mae: 12.3919\n",
            "Epoch 12/100\n",
            "6/6 [==============================] - 0s 14ms/step - loss: 73.2185 - mae: 6.0274 - val_loss: 246.7101 - val_mae: 12.1546\n",
            "Epoch 13/100\n",
            "6/6 [==============================] - 0s 10ms/step - loss: 72.3638 - mae: 6.0583 - val_loss: 235.1928 - val_mae: 11.7936\n",
            "Epoch 14/100\n",
            "6/6 [==============================] - 0s 13ms/step - loss: 72.6180 - mae: 6.2238 - val_loss: 224.1024 - val_mae: 11.4749\n",
            "Epoch 15/100\n",
            "6/6 [==============================] - 0s 11ms/step - loss: 71.6169 - mae: 6.2191 - val_loss: 230.5706 - val_mae: 11.6550\n",
            "Epoch 16/100\n",
            "6/6 [==============================] - 0s 16ms/step - loss: 71.1489 - mae: 6.1247 - val_loss: 236.9677 - val_mae: 11.8622\n",
            "Epoch 17/100\n",
            "6/6 [==============================] - 0s 15ms/step - loss: 71.2202 - mae: 6.0361 - val_loss: 247.3032 - val_mae: 12.1906\n",
            "Epoch 18/100\n",
            "6/6 [==============================] - 0s 14ms/step - loss: 72.6209 - mae: 5.9286 - val_loss: 265.0481 - val_mae: 12.7127\n",
            "Epoch 19/100\n",
            "6/6 [==============================] - 0s 11ms/step - loss: 75.9433 - mae: 5.9867 - val_loss: 270.9900 - val_mae: 12.8804\n",
            "Epoch 20/100\n",
            "6/6 [==============================] - 0s 13ms/step - loss: 74.7531 - mae: 5.9209 - val_loss: 260.0482 - val_mae: 12.5822\n",
            "Epoch 21/100\n",
            "6/6 [==============================] - 0s 13ms/step - loss: 73.1386 - mae: 5.9592 - val_loss: 246.7626 - val_mae: 12.1979\n",
            "Epoch 22/100\n",
            "6/6 [==============================] - 0s 11ms/step - loss: 70.6461 - mae: 6.0153 - val_loss: 229.2033 - val_mae: 11.6371\n",
            "Epoch 23/100\n",
            "6/6 [==============================] - 0s 10ms/step - loss: 69.8127 - mae: 6.1394 - val_loss: 217.0862 - val_mae: 11.3419\n",
            "Epoch 24/100\n",
            "6/6 [==============================] - 0s 13ms/step - loss: 71.0935 - mae: 6.3605 - val_loss: 207.8235 - val_mae: 11.1177\n",
            "Epoch 25/100\n",
            "6/6 [==============================] - 0s 11ms/step - loss: 73.0709 - mae: 6.6810 - val_loss: 191.7144 - val_mae: 10.7929\n",
            "Epoch 26/100\n",
            "6/6 [==============================] - 0s 11ms/step - loss: 75.3280 - mae: 6.9035 - val_loss: 204.7180 - val_mae: 11.0344\n",
            "Epoch 27/100\n",
            "6/6 [==============================] - 0s 10ms/step - loss: 70.7808 - mae: 6.4195 - val_loss: 229.0094 - val_mae: 11.6724\n",
            "Epoch 28/100\n",
            "6/6 [==============================] - 0s 13ms/step - loss: 69.8215 - mae: 5.9872 - val_loss: 246.6481 - val_mae: 12.2422\n",
            "Epoch 29/100\n",
            "6/6 [==============================] - 0s 14ms/step - loss: 70.6274 - mae: 5.9005 - val_loss: 244.8894 - val_mae: 12.1880\n",
            "Epoch 30/100\n",
            "6/6 [==============================] - 0s 14ms/step - loss: 67.1015 - mae: 5.9514 - val_loss: 209.2119 - val_mae: 11.1628\n",
            "Epoch 31/100\n",
            "6/6 [==============================] - 0s 10ms/step - loss: 72.3231 - mae: 6.7216 - val_loss: 190.4119 - val_mae: 10.7791\n",
            "Epoch 32/100\n",
            "6/6 [==============================] - 0s 12ms/step - loss: 76.4077 - mae: 7.0454 - val_loss: 196.5147 - val_mae: 10.8813\n",
            "Epoch 33/100\n",
            "6/6 [==============================] - 0s 14ms/step - loss: 73.5082 - mae: 6.6860 - val_loss: 208.2069 - val_mae: 11.1182\n",
            "Epoch 34/100\n",
            "6/6 [==============================] - 0s 11ms/step - loss: 72.4695 - mae: 6.6472 - val_loss: 199.5712 - val_mae: 10.9149\n",
            "Epoch 35/100\n",
            "6/6 [==============================] - 0s 13ms/step - loss: 71.5958 - mae: 6.5497 - val_loss: 217.9834 - val_mae: 11.3548\n",
            "Epoch 36/100\n",
            "6/6 [==============================] - 0s 11ms/step - loss: 69.3083 - mae: 6.1316 - val_loss: 231.5830 - val_mae: 11.7551\n",
            "Epoch 37/100\n",
            "6/6 [==============================] - 0s 11ms/step - loss: 68.6914 - mae: 6.0638 - val_loss: 225.7191 - val_mae: 11.5823\n",
            "Epoch 38/100\n",
            "6/6 [==============================] - 0s 12ms/step - loss: 68.6826 - mae: 6.1072 - val_loss: 230.2260 - val_mae: 11.7115\n",
            "Epoch 39/100\n",
            "6/6 [==============================] - 0s 8ms/step - loss: 68.3185 - mae: 6.0331 - val_loss: 233.0527 - val_mae: 11.7921\n",
            "Epoch 40/100\n",
            "6/6 [==============================] - 0s 9ms/step - loss: 68.2930 - mae: 5.9653 - val_loss: 237.7002 - val_mae: 11.9231\n",
            "Epoch 41/100\n",
            "6/6 [==============================] - 0s 12ms/step - loss: 68.1791 - mae: 5.9796 - val_loss: 230.0582 - val_mae: 11.7046\n",
            "Epoch 42/100\n",
            "6/6 [==============================] - 0s 8ms/step - loss: 68.2840 - mae: 6.1189 - val_loss: 225.6394 - val_mae: 11.5758\n",
            "Epoch 43/100\n",
            "6/6 [==============================] - 0s 11ms/step - loss: 68.0621 - mae: 6.0779 - val_loss: 237.4557 - val_mae: 11.9167\n",
            "Epoch 44/100\n",
            "6/6 [==============================] - 0s 12ms/step - loss: 68.1894 - mae: 5.9154 - val_loss: 250.3580 - val_mae: 12.3159\n",
            "Epoch 45/100\n",
            "6/6 [==============================] - 0s 8ms/step - loss: 68.5053 - mae: 5.8548 - val_loss: 245.0103 - val_mae: 12.1533\n",
            "Epoch 46/100\n",
            "6/6 [==============================] - 0s 10ms/step - loss: 68.9100 - mae: 6.0064 - val_loss: 230.5741 - val_mae: 11.7142\n",
            "Epoch 47/100\n",
            "6/6 [==============================] - 0s 12ms/step - loss: 68.0492 - mae: 6.0660 - val_loss: 231.8975 - val_mae: 11.7561\n",
            "Epoch 48/100\n",
            "6/6 [==============================] - 0s 9ms/step - loss: 67.8835 - mae: 6.0512 - val_loss: 233.0031 - val_mae: 11.7882\n",
            "Epoch 49/100\n",
            "6/6 [==============================] - 0s 12ms/step - loss: 67.8109 - mae: 5.9922 - val_loss: 240.1006 - val_mae: 11.9964\n",
            "Epoch 50/100\n",
            "6/6 [==============================] - 0s 9ms/step - loss: 67.7394 - mae: 5.9187 - val_loss: 238.6669 - val_mae: 11.9565\n",
            "Epoch 51/100\n",
            "6/6 [==============================] - 0s 9ms/step - loss: 68.4244 - mae: 6.0849 - val_loss: 227.3657 - val_mae: 11.6253\n",
            "Epoch 52/100\n",
            "6/6 [==============================] - 0s 12ms/step - loss: 67.1283 - mae: 6.0156 - val_loss: 242.6971 - val_mae: 12.0710\n",
            "Epoch 53/100\n",
            "6/6 [==============================] - 0s 8ms/step - loss: 67.6751 - mae: 5.8624 - val_loss: 247.9403 - val_mae: 12.2395\n",
            "Epoch 54/100\n",
            "6/6 [==============================] - 0s 12ms/step - loss: 69.1553 - mae: 5.8399 - val_loss: 255.3483 - val_mae: 12.4743\n",
            "Epoch 55/100\n",
            "6/6 [==============================] - 0s 11ms/step - loss: 68.5385 - mae: 5.8163 - val_loss: 237.8155 - val_mae: 11.9407\n",
            "Epoch 56/100\n",
            "6/6 [==============================] - 0s 12ms/step - loss: 68.2716 - mae: 6.1178 - val_loss: 217.6028 - val_mae: 11.4167\n",
            "Epoch 57/100\n",
            "6/6 [==============================] - 0s 9ms/step - loss: 68.6659 - mae: 6.3088 - val_loss: 226.5199 - val_mae: 11.6549\n",
            "Epoch 58/100\n",
            "6/6 [==============================] - 0s 14ms/step - loss: 66.9306 - mae: 5.9672 - val_loss: 253.6768 - val_mae: 12.4391\n",
            "Epoch 59/100\n",
            "6/6 [==============================] - 0s 12ms/step - loss: 68.7770 - mae: 5.7826 - val_loss: 264.0951 - val_mae: 12.7532\n",
            "Epoch 60/100\n",
            "6/6 [==============================] - 0s 9ms/step - loss: 68.3918 - mae: 5.7964 - val_loss: 247.4877 - val_mae: 12.2529\n",
            "Epoch 61/100\n",
            "6/6 [==============================] - 0s 13ms/step - loss: 67.0051 - mae: 5.9218 - val_loss: 233.7165 - val_mae: 11.8565\n",
            "Epoch 62/100\n",
            "6/6 [==============================] - 0s 13ms/step - loss: 67.4703 - mae: 6.0760 - val_loss: 231.6154 - val_mae: 11.8221\n",
            "Epoch 63/100\n",
            "6/6 [==============================] - 0s 11ms/step - loss: 67.9843 - mae: 6.0070 - val_loss: 245.4814 - val_mae: 12.1831\n",
            "Epoch 64/100\n",
            "6/6 [==============================] - 0s 12ms/step - loss: 67.2889 - mae: 5.8771 - val_loss: 251.9850 - val_mae: 12.3880\n",
            "Epoch 65/100\n",
            "6/6 [==============================] - 0s 10ms/step - loss: 67.1728 - mae: 5.8168 - val_loss: 244.3498 - val_mae: 12.1368\n",
            "Epoch 66/100\n",
            "6/6 [==============================] - 0s 13ms/step - loss: 68.1868 - mae: 6.2147 - val_loss: 215.1071 - val_mae: 11.3822\n",
            "Epoch 67/100\n",
            "6/6 [==============================] - 0s 9ms/step - loss: 69.3943 - mae: 6.3942 - val_loss: 223.8609 - val_mae: 11.5953\n",
            "Epoch 68/100\n",
            "6/6 [==============================] - 0s 12ms/step - loss: 67.4483 - mae: 6.1110 - val_loss: 235.9485 - val_mae: 11.8779\n",
            "Epoch 69/100\n",
            "6/6 [==============================] - 0s 10ms/step - loss: 66.8892 - mae: 5.9294 - val_loss: 246.1474 - val_mae: 12.1676\n",
            "Epoch 70/100\n",
            "6/6 [==============================] - 0s 13ms/step - loss: 66.7899 - mae: 5.8746 - val_loss: 236.7573 - val_mae: 11.8939\n",
            "Epoch 71/100\n",
            "6/6 [==============================] - 0s 10ms/step - loss: 66.8413 - mae: 6.0142 - val_loss: 233.4350 - val_mae: 11.8201\n",
            "Epoch 72/100\n",
            "6/6 [==============================] - 0s 16ms/step - loss: 66.4752 - mae: 5.9934 - val_loss: 244.7561 - val_mae: 12.1273\n",
            "Epoch 73/100\n",
            "6/6 [==============================] - 0s 13ms/step - loss: 66.5352 - mae: 5.7801 - val_loss: 267.3915 - val_mae: 12.8213\n",
            "Epoch 74/100\n",
            "6/6 [==============================] - 0s 14ms/step - loss: 69.9511 - mae: 5.7203 - val_loss: 278.9998 - val_mae: 13.1482\n",
            "Epoch 75/100\n",
            "6/6 [==============================] - 0s 17ms/step - loss: 68.9777 - mae: 5.6662 - val_loss: 261.5481 - val_mae: 12.6564\n",
            "Epoch 76/100\n",
            "6/6 [==============================] - 0s 16ms/step - loss: 67.2970 - mae: 5.7655 - val_loss: 252.4163 - val_mae: 12.3609\n",
            "Epoch 77/100\n",
            "6/6 [==============================] - 0s 20ms/step - loss: 66.5877 - mae: 5.8359 - val_loss: 251.8957 - val_mae: 12.3361\n",
            "Epoch 78/100\n",
            "6/6 [==============================] - 0s 15ms/step - loss: 66.5845 - mae: 5.8176 - val_loss: 259.7333 - val_mae: 12.5780\n",
            "Epoch 79/100\n",
            "6/6 [==============================] - 0s 11ms/step - loss: 67.2507 - mae: 5.7271 - val_loss: 256.3133 - val_mae: 12.4735\n",
            "Epoch 80/100\n",
            "6/6 [==============================] - 0s 12ms/step - loss: 66.5868 - mae: 6.0685 - val_loss: 213.6589 - val_mae: 11.3325\n",
            "Epoch 81/100\n",
            "6/6 [==============================] - 0s 13ms/step - loss: 76.6735 - mae: 7.0249 - val_loss: 194.2292 - val_mae: 11.0219\n",
            "Epoch 82/100\n",
            "6/6 [==============================] - 0s 15ms/step - loss: 83.6248 - mae: 7.7377 - val_loss: 195.2346 - val_mae: 11.0603\n",
            "Epoch 83/100\n",
            "6/6 [==============================] - 0s 15ms/step - loss: 75.5950 - mae: 6.7928 - val_loss: 241.7379 - val_mae: 12.0276\n",
            "Epoch 84/100\n",
            "6/6 [==============================] - 0s 11ms/step - loss: 64.4881 - mae: 5.7556 - val_loss: 277.4808 - val_mae: 13.0296\n",
            "Epoch 85/100\n",
            "6/6 [==============================] - 0s 12ms/step - loss: 69.6669 - mae: 5.7760 - val_loss: 291.5208 - val_mae: 13.4072\n",
            "Epoch 86/100\n",
            "6/6 [==============================] - 0s 16ms/step - loss: 70.9944 - mae: 5.7985 - val_loss: 279.6302 - val_mae: 13.0912\n",
            "Epoch 87/100\n",
            "6/6 [==============================] - 0s 13ms/step - loss: 67.8633 - mae: 5.7095 - val_loss: 270.7739 - val_mae: 12.8309\n",
            "Epoch 88/100\n",
            "6/6 [==============================] - 0s 18ms/step - loss: 65.8382 - mae: 5.6911 - val_loss: 253.7048 - val_mae: 12.3585\n",
            "Epoch 89/100\n",
            "6/6 [==============================] - 0s 22ms/step - loss: 65.6619 - mae: 5.9337 - val_loss: 240.6394 - val_mae: 12.0184\n",
            "Epoch 90/100\n",
            "6/6 [==============================] - 0s 18ms/step - loss: 65.7315 - mae: 5.9706 - val_loss: 248.5299 - val_mae: 12.2112\n",
            "Epoch 91/100\n",
            "6/6 [==============================] - 0s 16ms/step - loss: 65.5165 - mae: 5.9460 - val_loss: 238.7307 - val_mae: 11.9535\n",
            "Epoch 92/100\n",
            "6/6 [==============================] - 0s 16ms/step - loss: 65.9857 - mae: 6.0618 - val_loss: 238.1874 - val_mae: 11.9388\n",
            "Epoch 93/100\n",
            "6/6 [==============================] - 0s 13ms/step - loss: 65.4486 - mae: 5.9392 - val_loss: 251.9368 - val_mae: 12.3023\n",
            "Epoch 94/100\n",
            "6/6 [==============================] - 0s 19ms/step - loss: 65.2922 - mae: 5.8069 - val_loss: 260.0201 - val_mae: 12.5195\n",
            "Epoch 95/100\n",
            "6/6 [==============================] - 0s 18ms/step - loss: 65.5352 - mae: 5.7376 - val_loss: 264.1867 - val_mae: 12.6227\n",
            "Epoch 96/100\n",
            "6/6 [==============================] - 0s 13ms/step - loss: 65.1393 - mae: 5.7298 - val_loss: 259.3056 - val_mae: 12.4918\n",
            "Epoch 97/100\n",
            "6/6 [==============================] - 0s 14ms/step - loss: 64.9315 - mae: 5.8192 - val_loss: 251.0296 - val_mae: 12.2682\n",
            "Epoch 98/100\n",
            "6/6 [==============================] - 0s 13ms/step - loss: 64.6487 - mae: 5.8217 - val_loss: 258.8063 - val_mae: 12.4873\n",
            "Epoch 99/100\n",
            "6/6 [==============================] - 0s 16ms/step - loss: 64.8968 - mae: 5.7355 - val_loss: 264.3483 - val_mae: 12.6409\n",
            "Epoch 100/100\n",
            "6/6 [==============================] - 0s 14ms/step - loss: 64.7686 - mae: 5.7056 - val_loss: 260.1165 - val_mae: 12.5349\n"
          ]
        }
      ]
    },
    {
      "cell_type": "code",
      "source": [
        "import matplotlib.pyplot as plt\n",
        "\n",
        "\n",
        "plt.plot(history.history['loss'], label='Training Loss')\n",
        "plt.plot(history.history['val_loss'], label='Validation Loss')\n",
        "plt.xlabel('Epochs')\n",
        "plt.ylabel('Loss')\n",
        "plt.legend()\n",
        "plt.show()"
      ],
      "metadata": {
        "colab": {
          "base_uri": "https://localhost:8080/",
          "height": 449
        },
        "id": "pGMjkFseW9Cj",
        "outputId": "770ec034-7898-483b-eafe-bd2829ea8872"
      },
      "execution_count": 9,
      "outputs": [
        {
          "output_type": "display_data",
          "data": {
            "text/plain": [
              "<Figure size 640x480 with 1 Axes>"
            ],
            "image/png": "[encoded data removed]"
          },
          "metadata": {}
        }
      ]
    },
    {
      "cell_type": "code",
      "source": [
        "import numpy as np\n",
        "test_loss = model.evaluate(test_data, test_labels)\n",
        "print('test_loss:', test_loss)\n",
        "\n",
        "test_mae = np.mean(np.abs(model.predict(test_data) - test_labels))\n",
        "print('test_mae:', test_mae)"
      ],
      "metadata": {
        "colab": {
          "base_uri": "https://localhost:8080/"
        },
        "id": "77TM1MDPXaUb",
        "outputId": "1eb437ab-0f0b-4ac1-c63c-aa37a9572068"
      },
      "execution_count": 10,
      "outputs": [
        {
          "output_type": "stream",
          "name": "stdout",
          "text": [
            "4/4 [==============================] - 0s 4ms/step - loss: 563.4589 - mae: 21.8782\n",
            "test_loss: [563.4589233398438, 21.87822151184082]\n",
            "4/4 [==============================] - 0s 3ms/step\n",
            "test_mae: 21.878298818198868\n"
          ]
        }
      ]
    },
    {
      "cell_type": "code",
      "source": [],
      "metadata": {
        "id": "lwls5bBMXqFC"
      },
      "execution_count": null,
      "outputs": []
    }
  ]
}