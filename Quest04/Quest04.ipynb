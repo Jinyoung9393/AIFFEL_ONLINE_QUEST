{
  "nbformat": 4,
  "nbformat_minor": 0,
  "metadata": {
    "colab": {
      "provenance": [],
      "include_colab_link": true
    },
    "kernelspec": {
      "name": "python3",
      "display_name": "Python 3"
    },
    "language_info": {
      "name": "python"
    }
  },
  "cells": [
    {
      "cell_type": "markdown",
      "metadata": {
        "id": "view-in-github",
        "colab_type": "text"
      },
      "source": [
        "<a href=\"https://colab.research.google.com/github/Jinyoung9393/AIFFEL_ONLINE_QUEST/blob/master/Quest04/Quest04.ipynb\" target=\"_parent\"><img src=\"https://colab.research.google.com/assets/colab-badge.svg\" alt=\"Open In Colab\"/></a>"
      ]
    },
    {
      "cell_type": "code",
      "execution_count": 28,
      "metadata": {
        "id": "seiJp7uI1T3k",
        "colab": {
          "base_uri": "https://localhost:8080/"
        },
        "outputId": "ab1ab88e-1d5f-4155-d5e0-829779292712"
      },
      "outputs": [
        {
          "output_type": "stream",
          "name": "stdout",
          "text": [
            "Using Comprehension:\n",
            "Nemo is swimming at 3m/s\n",
            "Dory is swimming at 5m/s\n",
            "Using Generator:\n",
            "Nemo is swimming at 3m/s.\n",
            "Dory is swimming at 5m/s.\n"
          ]
        }
      ],
      "source": [
        "from time import sleep as sl    # time 모듈에서 sleep 함수를 가져오고 sl로 이름을 지정한다.\n",
        "\n",
        "def show_fish_movement_comprehension(fish_list):\n",
        "  movements_c=[f\"{i['이름']} is swimming at {i['speed']}m/s\" for i in fish_list] #컴프리헨션을 이용해서 새로운 리스트를 만든다.\n",
        "  for i in movements_c:                              # 해당값을 2초간격으로 출력하기 위해 for문을 이용해 하나씩 출력한다.\n",
        "    print(i)\n",
        "    sl(2)\n",
        "\n",
        "\n",
        "\n",
        "def show_fish_movement_Generator(fish_list):\n",
        "    def generate_movements():                               # 제너레이터 함수를 만든다.\n",
        "        for i in fish_list:                                 # 임의의 변수에 원하는 출력값을 저장 후 반환한다.\n",
        "            yield f\"{i['이름']} is swimming at {i['speed']}m/s.\"\n",
        "\n",
        "\n",
        "    movements = generate_movements()                        # 변수선언을 통해 제너레이터를 바인딩한다.\n",
        "    for i in movements:                                     # next() 대신에 for문으로 제너레이터 함수를 2초 간격으로 출력한다.\n",
        "        print(i)\n",
        "        sl(2)\n",
        "\n",
        "fish_list = [{\"이름\":\"Nemo\", \"speed\":3},{\"이름\":\"Dory\", \"speed\": 5}]\n",
        "\n",
        "\n",
        "print(\"Using Comprehension:\")\n",
        "show_fish_movement_comprehension(fish_list)\n",
        "print(\"Using Generator:\")\n",
        "show_fish_movement_Generator(fish_list)\n",
        "\n"
      ]
    },
    {
      "cell_type": "code",
      "source": [],
      "metadata": {
        "id": "NxS99fWDrlad"
      },
      "execution_count": null,
      "outputs": []
    }
  ]
}