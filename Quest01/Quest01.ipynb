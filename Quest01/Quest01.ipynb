{
  "nbformat": 4,
  "nbformat_minor": 0,
  "metadata": {
    "colab": {
      "provenance": [],
      "include_colab_link": true
    },
    "kernelspec": {
      "name": "python3",
      "display_name": "Python 3"
    },
    "language_info": {
      "name": "python"
    }
  },
  "cells": [
    {
      "cell_type": "markdown",
      "metadata": {
        "id": "view-in-github",
        "colab_type": "text"
      },
      "source": [
        "<a href=\"https://colab.research.google.com/github/Jinyoung9393/AIFFEL_ONLINE_QUEST/blob/master/Quest01/Quest01.ipynb\" target=\"_parent\"><img src=\"https://colab.research.google.com/assets/colab-badge.svg\" alt=\"Open In Colab\"/></a>"
      ]
    },
    {
      "cell_type": "code",
      "execution_count": 4,
      "metadata": {
        "id": "seiJp7uI1T3k",
        "colab": {
          "base_uri": "https://localhost:8080/"
        },
        "outputId": "d23b112e-3f9a-429c-e225-2d4452c4a85b"
      },
      "outputs": [
        {
          "output_type": "stream",
          "name": "stdout",
          "text": [
            "===\n",
            "입력값 : \n",
            "우영우\n",
            "뒤집어진 단어는:  우영우\n",
            "입력한 단어는 회문입니다.\n"
          ]
        }
      ],
      "source": [
        "def word_reverse(a):\n",
        "  W = a[::-1]                               # 입력된 단어를 역순으로 W에 저장\n",
        "  if a == W:                                # 사용자가 입력한 단어와 뒤집은 단어가 동일한지 확인하고 뒤집은 단어 return\n",
        "    return True, W\n",
        "  else:\n",
        "    return False, W\n",
        "\n",
        "print(\"===\")\n",
        "word=str(input(\"입력값 : \\n\"))              # 사용자가 단어 입력\n",
        "\n",
        "rev_Check, R_word = word_reverse(word)      #word_reverse 함수 호출\n",
        "\n",
        "if rev_Check:                               #뒤집어진 단어와 회문 여부 출력\n",
        "  print(\"뒤집어진 단어는: \", R_word)\n",
        "  print(\"입력한 단어는 회문입니다.\")\n",
        "else:\n",
        "  print(\"뒤집어진 단어는: \", R_word)\n",
        "  print(\"입력한 단어는 회문이 아닙니다.\")\n",
        "\n",
        "\n",
        "\n",
        "\n"
      ]
    }
  ]
}